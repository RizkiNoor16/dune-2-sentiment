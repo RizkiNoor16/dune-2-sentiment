{
 "cells": [
  {
   "cell_type": "code",
   "execution_count": 1,
   "metadata": {},
   "outputs": [
    {
     "data": {
      "application/vnd.jupyter.widget-view+json": {
       "model_id": "3fcf8bfd07584a7c941a4a3953bdf608",
       "version_major": 2,
       "version_minor": 0
      },
      "text/plain": [
       "Downloading data files:   0%|          | 0/2 [00:00<?, ?it/s]"
      ]
     },
     "metadata": {},
     "output_type": "display_data"
    },
    {
     "data": {
      "application/vnd.jupyter.widget-view+json": {
       "model_id": "7aae8000cad84d0c809f06a203990085",
       "version_major": 2,
       "version_minor": 0
      },
      "text/plain": [
       "Extracting data files:   0%|          | 0/2 [00:00<?, ?it/s]"
      ]
     },
     "metadata": {},
     "output_type": "display_data"
    },
    {
     "data": {
      "application/vnd.jupyter.widget-view+json": {
       "model_id": "db0e37801f2d43d895c5f0cef0b56023",
       "version_major": 2,
       "version_minor": 0
      },
      "text/plain": [
       "Generating train split: 0 examples [00:00, ? examples/s]"
      ]
     },
     "metadata": {},
     "output_type": "display_data"
    },
    {
     "data": {
      "application/vnd.jupyter.widget-view+json": {
       "model_id": "b91e443fbf6b47b6bdcf677baaa251d2",
       "version_major": 2,
       "version_minor": 0
      },
      "text/plain": [
       "Generating val split: 0 examples [00:00, ? examples/s]"
      ]
     },
     "metadata": {},
     "output_type": "display_data"
    }
   ],
   "source": [
    "from datasets import load_dataset\n",
    "dataset = load_dataset('csv', data_files={'train': 'dataset/train.csv', 'val':'dataset/val.csv'})"
   ]
  },
  {
   "cell_type": "code",
   "execution_count": 2,
   "metadata": {},
   "outputs": [
    {
     "data": {
      "text/plain": [
       "DatasetDict({\n",
       "    train: Dataset({\n",
       "        features: ['Text', 'label'],\n",
       "        num_rows: 6448\n",
       "    })\n",
       "    val: Dataset({\n",
       "        features: ['Text', 'label'],\n",
       "        num_rows: 1613\n",
       "    })\n",
       "})"
      ]
     },
     "execution_count": 2,
     "metadata": {},
     "output_type": "execute_result"
    }
   ],
   "source": [
    "dataset = dataset.remove_columns('Unnamed: 0')\n",
    "dataset"
   ]
  },
  {
   "cell_type": "code",
   "execution_count": 3,
   "metadata": {},
   "outputs": [],
   "source": [
    "from transformers import AutoTokenizer\n",
    "\n",
    "model_ckpt = \"distilbert-base-uncased\" # or path of the model for in local storage\n",
    "tokenizer = AutoTokenizer.from_pretrained(model_ckpt)"
   ]
  },
  {
   "cell_type": "code",
   "execution_count": 4,
   "metadata": {},
   "outputs": [],
   "source": [
    "def tokenize(batch):\n",
    "    return tokenizer(batch[\"Text\"], padding=True, truncation=True)"
   ]
  },
  {
   "cell_type": "code",
   "execution_count": 5,
   "metadata": {},
   "outputs": [
    {
     "data": {
      "application/vnd.jupyter.widget-view+json": {
       "model_id": "ff60908e6d20401696e5ffc54f6b7bb3",
       "version_major": 2,
       "version_minor": 0
      },
      "text/plain": [
       "Map:   0%|          | 0/6448 [00:00<?, ? examples/s]"
      ]
     },
     "metadata": {},
     "output_type": "display_data"
    },
    {
     "data": {
      "application/vnd.jupyter.widget-view+json": {
       "model_id": "97b3a67acb53460bbcaa6a10291f8b2f",
       "version_major": 2,
       "version_minor": 0
      },
      "text/plain": [
       "Map:   0%|          | 0/1613 [00:00<?, ? examples/s]"
      ]
     },
     "metadata": {},
     "output_type": "display_data"
    }
   ],
   "source": [
    "dataset_encoded = dataset.map(tokenize, batched=True, batch_size=None)"
   ]
  },
  {
   "cell_type": "code",
   "execution_count": 6,
   "metadata": {},
   "outputs": [],
   "source": [
    "from transformers import AutoModel\n",
    "\n",
    "model_ckpt = \"distilbert-base-uncased\"\n",
    "device = \"cuda\"\n",
    "model = AutoModel.from_pretrained(model_ckpt).to(device)"
   ]
  },
  {
   "cell_type": "code",
   "execution_count": 7,
   "metadata": {},
   "outputs": [],
   "source": [
    "dataset_encoded.set_format(\"torch\", \n",
    "                            columns=[\"input_ids\", \"attention_mask\", \"label\"])"
   ]
  },
  {
   "cell_type": "code",
   "execution_count": 8,
   "metadata": {},
   "outputs": [
    {
     "name": "stderr",
     "output_type": "stream",
     "text": [
      "Some weights of DistilBertForSequenceClassification were not initialized from the model checkpoint at distilbert-base-uncased and are newly initialized: ['classifier.bias', 'classifier.weight', 'pre_classifier.bias', 'pre_classifier.weight']\n",
      "You should probably TRAIN this model on a down-stream task to be able to use it for predictions and inference.\n"
     ]
    }
   ],
   "source": [
    "from transformers import AutoModelForSequenceClassification\n",
    "\n",
    "num_labels = 5\n",
    "model = (AutoModelForSequenceClassification\n",
    "         .from_pretrained(model_ckpt, num_labels=num_labels)\n",
    "         .to(device))"
   ]
  },
  {
   "cell_type": "code",
   "execution_count": 9,
   "metadata": {},
   "outputs": [],
   "source": [
    "from sklearn.metrics import accuracy_score, f1_score\n",
    "\n",
    "def compute_metrics(pred):\n",
    "    labels = pred.label_ids\n",
    "    preds = pred.predictions.argmax(-1)\n",
    "    f1 = f1_score(labels, preds, average=\"weighted\")\n",
    "    acc = accuracy_score(labels, preds)\n",
    "    return {\"accuracy\": acc, \"f1\": f1}"
   ]
  },
  {
   "cell_type": "code",
   "execution_count": 10,
   "metadata": {},
   "outputs": [],
   "source": [
    "from transformers import Trainer, TrainingArguments\n",
    "\n",
    "batch_size = 64\n",
    "logging_steps = len(dataset_encoded[\"train\"]) // batch_size\n",
    "model_name = f\"checkpoint/{model_ckpt}-finetuned-emotion\"\n",
    "training_args = TrainingArguments(output_dir=model_name,\n",
    "                                  num_train_epochs=50,\n",
    "                                  learning_rate=2e-5,\n",
    "                                  per_device_train_batch_size=batch_size,\n",
    "                                  per_device_eval_batch_size=batch_size,\n",
    "                                  weight_decay=0.01,\n",
    "                                  evaluation_strategy=\"epoch\",\n",
    "                                  disable_tqdm=False,\n",
    "                                  logging_steps=logging_steps,\n",
    "                                  push_to_hub=False, \n",
    "                                  log_level=\"error\")"
   ]
  },
  {
   "cell_type": "code",
   "execution_count": 11,
   "metadata": {},
   "outputs": [
    {
     "name": "stderr",
     "output_type": "stream",
     "text": [
      "[codecarbon INFO @ 00:34:00] [setup] RAM Tracking...\n",
      "[codecarbon INFO @ 00:34:00] [setup] GPU Tracking...\n",
      "[codecarbon INFO @ 00:34:00] Tracking Nvidia GPU via pynvml\n",
      "[codecarbon INFO @ 00:34:00] [setup] CPU Tracking...\n",
      "[codecarbon WARNING @ 00:34:00] No CPU tracking mode found. Falling back on CPU constant mode.\n",
      "[codecarbon WARNING @ 00:34:01] We saw that you have a 12th Gen Intel(R) Core(TM) i5-12400 but we don't know it. Please contact us.\n",
      "[codecarbon INFO @ 00:34:01] CPU Model on constant consumption mode: 12th Gen Intel(R) Core(TM) i5-12400\n",
      "[codecarbon INFO @ 00:34:01] >>> Tracker's metadata:\n",
      "[codecarbon INFO @ 00:34:01]   Platform system: Linux-5.15.0-100-generic-x86_64-with-glibc2.31\n",
      "[codecarbon INFO @ 00:34:01]   Python version: 3.10.10\n",
      "[codecarbon INFO @ 00:34:01]   CodeCarbon version: 2.2.3\n",
      "[codecarbon INFO @ 00:34:01]   Available RAM : 125.571 GB\n",
      "[codecarbon INFO @ 00:34:01]   CPU count: 12\n",
      "[codecarbon INFO @ 00:34:01]   CPU model: 12th Gen Intel(R) Core(TM) i5-12400\n",
      "[codecarbon INFO @ 00:34:01]   GPU count: 1\n",
      "[codecarbon INFO @ 00:34:01]   GPU model: 1 x NVIDIA GeForce RTX 3090 Ti\n"
     ]
    }
   ],
   "source": [
    "from transformers import Trainer\n",
    "\n",
    "trainer = Trainer(model=model, args=training_args, \n",
    "                  compute_metrics=compute_metrics,\n",
    "                  train_dataset=dataset_encoded[\"train\"],\n",
    "                  eval_dataset=dataset_encoded[\"val\"],\n",
    "                  tokenizer=tokenizer)"
   ]
  },
  {
   "cell_type": "code",
   "execution_count": 12,
   "metadata": {},
   "outputs": [
    {
     "name": "stderr",
     "output_type": "stream",
     "text": [
      "Failed to detect the name of this notebook, you can set it manually with the WANDB_NOTEBOOK_NAME environment variable to enable code saving.\n",
      "\u001b[34m\u001b[1mwandb\u001b[0m: Currently logged in as: \u001b[33mdeede-rizki\u001b[0m. Use \u001b[1m`wandb login --relogin`\u001b[0m to force relogin\n"
     ]
    },
    {
     "data": {
      "text/html": [
       "wandb version 0.16.4 is available!  To upgrade, please run:\n",
       " $ pip install wandb --upgrade"
      ],
      "text/plain": [
       "<IPython.core.display.HTML object>"
      ]
     },
     "metadata": {},
     "output_type": "display_data"
    },
    {
     "data": {
      "text/html": [
       "Tracking run with wandb version 0.15.12"
      ],
      "text/plain": [
       "<IPython.core.display.HTML object>"
      ]
     },
     "metadata": {},
     "output_type": "display_data"
    },
    {
     "data": {
      "text/html": [
       "Run data is saved locally in <code>/home/rizki/Documents/movies/wandb/run-20240317_003409-081i6apf</code>"
      ],
      "text/plain": [
       "<IPython.core.display.HTML object>"
      ]
     },
     "metadata": {},
     "output_type": "display_data"
    },
    {
     "data": {
      "text/html": [
       "Syncing run <strong><a href='https://wandb.ai/deede-rizki/huggingface/runs/081i6apf' target=\"_blank\">autumn-waterfall-43</a></strong> to <a href='https://wandb.ai/deede-rizki/huggingface' target=\"_blank\">Weights & Biases</a> (<a href='https://wandb.me/run' target=\"_blank\">docs</a>)<br/>"
      ],
      "text/plain": [
       "<IPython.core.display.HTML object>"
      ]
     },
     "metadata": {},
     "output_type": "display_data"
    },
    {
     "data": {
      "text/html": [
       " View project at <a href='https://wandb.ai/deede-rizki/huggingface' target=\"_blank\">https://wandb.ai/deede-rizki/huggingface</a>"
      ],
      "text/plain": [
       "<IPython.core.display.HTML object>"
      ]
     },
     "metadata": {},
     "output_type": "display_data"
    },
    {
     "data": {
      "text/html": [
       " View run at <a href='https://wandb.ai/deede-rizki/huggingface/runs/081i6apf' target=\"_blank\">https://wandb.ai/deede-rizki/huggingface/runs/081i6apf</a>"
      ],
      "text/plain": [
       "<IPython.core.display.HTML object>"
      ]
     },
     "metadata": {},
     "output_type": "display_data"
    },
    {
     "data": {
      "application/vnd.jupyter.widget-view+json": {
       "model_id": "09a8a1fa746f42568d916aee237a0ed3",
       "version_major": 2,
       "version_minor": 0
      },
      "text/plain": [
       "  0%|          | 0/5050 [00:00<?, ?it/s]"
      ]
     },
     "metadata": {},
     "output_type": "display_data"
    },
    {
     "name": "stderr",
     "output_type": "stream",
     "text": [
      "[codecarbon INFO @ 00:34:31] Energy consumed for RAM : 0.000196 kWh. RAM Power : 47.089237689971924 W\n",
      "[codecarbon INFO @ 00:34:31] Energy consumed for all GPUs : 0.001752 kWh. Total GPU Power : 420.53200000000004 W\n",
      "[codecarbon INFO @ 00:34:31] Energy consumed for all CPUs : 0.000177 kWh. Total CPU Power : 42.5 W\n",
      "[codecarbon INFO @ 00:34:31] 0.002126 kWh of electricity used since the beginning.\n"
     ]
    },
    {
     "name": "stdout",
     "output_type": "stream",
     "text": [
      "{'loss': 1.4406, 'grad_norm': 2.3573577404022217, 'learning_rate': 1.9603960396039604e-05, 'epoch': 0.99}\n"
     ]
    },
    {
     "data": {
      "application/vnd.jupyter.widget-view+json": {
       "model_id": "996a19c94f3043a0a02e5ebf7f92c5f5",
       "version_major": 2,
       "version_minor": 0
      },
      "text/plain": [
       "  0%|          | 0/26 [00:00<?, ?it/s]"
      ]
     },
     "metadata": {},
     "output_type": "display_data"
    },
    {
     "name": "stdout",
     "output_type": "stream",
     "text": [
      "{'eval_loss': 1.3559573888778687, 'eval_accuracy': 0.384376937383757, 'eval_f1': 0.3577935750632695, 'eval_runtime': 1.3907, 'eval_samples_per_second': 1159.84, 'eval_steps_per_second': 18.695, 'epoch': 1.0}\n"
     ]
    },
    {
     "name": "stderr",
     "output_type": "stream",
     "text": [
      "[codecarbon INFO @ 00:34:46] Energy consumed for RAM : 0.000392 kWh. RAM Power : 47.089237689971924 W\n",
      "[codecarbon INFO @ 00:34:46] Energy consumed for all GPUs : 0.003505 kWh. Total GPU Power : 420.74 W\n",
      "[codecarbon INFO @ 00:34:46] Energy consumed for all CPUs : 0.000354 kWh. Total CPU Power : 42.5 W\n",
      "[codecarbon INFO @ 00:34:46] 0.004251 kWh of electricity used since the beginning.\n"
     ]
    },
    {
     "name": "stdout",
     "output_type": "stream",
     "text": [
      "{'loss': 1.2768, 'grad_norm': 3.517374277114868, 'learning_rate': 1.920792079207921e-05, 'epoch': 1.98}\n"
     ]
    },
    {
     "data": {
      "application/vnd.jupyter.widget-view+json": {
       "model_id": "b2b5386b46bc49708a58cc18882fb50d",
       "version_major": 2,
       "version_minor": 0
      },
      "text/plain": [
       "  0%|          | 0/26 [00:00<?, ?it/s]"
      ]
     },
     "metadata": {},
     "output_type": "display_data"
    },
    {
     "name": "stdout",
     "output_type": "stream",
     "text": [
      "{'eval_loss': 1.2865869998931885, 'eval_accuracy': 0.43645381277123374, 'eval_f1': 0.4267225810518976, 'eval_runtime': 1.4215, 'eval_samples_per_second': 1134.725, 'eval_steps_per_second': 18.291, 'epoch': 2.0}\n"
     ]
    },
    {
     "name": "stderr",
     "output_type": "stream",
     "text": [
      "[codecarbon INFO @ 00:35:01] Energy consumed for RAM : 0.000588 kWh. RAM Power : 47.089237689971924 W\n",
      "[codecarbon INFO @ 00:35:01] Energy consumed for all GPUs : 0.005263 kWh. Total GPU Power : 422.18600000000004 W\n",
      "[codecarbon INFO @ 00:35:01] Energy consumed for all CPUs : 0.000531 kWh. Total CPU Power : 42.5 W\n",
      "[codecarbon INFO @ 00:35:01] 0.006382 kWh of electricity used since the beginning.\n"
     ]
    },
    {
     "name": "stdout",
     "output_type": "stream",
     "text": [
      "{'loss': 1.1468, 'grad_norm': 3.9626736640930176, 'learning_rate': 1.881188118811881e-05, 'epoch': 2.97}\n"
     ]
    },
    {
     "data": {
      "application/vnd.jupyter.widget-view+json": {
       "model_id": "56456f76dda54afbb39765ee1ed9891b",
       "version_major": 2,
       "version_minor": 0
      },
      "text/plain": [
       "  0%|          | 0/26 [00:00<?, ?it/s]"
      ]
     },
     "metadata": {},
     "output_type": "display_data"
    },
    {
     "name": "stdout",
     "output_type": "stream",
     "text": [
      "{'eval_loss': 1.292029619216919, 'eval_accuracy': 0.4339739615623063, 'eval_f1': 0.4228129076669627, 'eval_runtime': 1.3965, 'eval_samples_per_second': 1155.063, 'eval_steps_per_second': 18.619, 'epoch': 3.0}\n"
     ]
    },
    {
     "name": "stderr",
     "output_type": "stream",
     "text": [
      "[codecarbon INFO @ 00:35:16] Energy consumed for RAM : 0.000784 kWh. RAM Power : 47.089237689971924 W\n",
      "[codecarbon INFO @ 00:35:16] Energy consumed for all GPUs : 0.007024 kWh. Total GPU Power : 422.879 W\n",
      "[codecarbon INFO @ 00:35:16] Energy consumed for all CPUs : 0.000708 kWh. Total CPU Power : 42.5 W\n",
      "[codecarbon INFO @ 00:35:16] 0.008516 kWh of electricity used since the beginning.\n"
     ]
    },
    {
     "name": "stdout",
     "output_type": "stream",
     "text": [
      "{'loss': 1.0219, 'grad_norm': 4.468928813934326, 'learning_rate': 1.841584158415842e-05, 'epoch': 3.96}\n"
     ]
    },
    {
     "data": {
      "application/vnd.jupyter.widget-view+json": {
       "model_id": "de6de6c2f00b46f080e75a2795df0c0f",
       "version_major": 2,
       "version_minor": 0
      },
      "text/plain": [
       "  0%|          | 0/26 [00:00<?, ?it/s]"
      ]
     },
     "metadata": {},
     "output_type": "display_data"
    },
    {
     "name": "stdout",
     "output_type": "stream",
     "text": [
      "{'eval_loss': 1.3198493719100952, 'eval_accuracy': 0.43955362678239307, 'eval_f1': 0.42830716083032194, 'eval_runtime': 1.4057, 'eval_samples_per_second': 1147.476, 'eval_steps_per_second': 18.496, 'epoch': 4.0}\n"
     ]
    },
    {
     "name": "stderr",
     "output_type": "stream",
     "text": [
      "[codecarbon INFO @ 00:35:31] Energy consumed for RAM : 0.000981 kWh. RAM Power : 47.089237689971924 W\n",
      "[codecarbon INFO @ 00:35:31] Energy consumed for all GPUs : 0.008800 kWh. Total GPU Power : 426.416 W\n",
      "[codecarbon INFO @ 00:35:31] Energy consumed for all CPUs : 0.000885 kWh. Total CPU Power : 42.5 W\n",
      "[codecarbon INFO @ 00:35:31] 0.010666 kWh of electricity used since the beginning.\n"
     ]
    },
    {
     "name": "stdout",
     "output_type": "stream",
     "text": [
      "{'loss': 0.8983, 'grad_norm': 5.808159828186035, 'learning_rate': 1.8019801980198022e-05, 'epoch': 4.95}\n"
     ]
    },
    {
     "data": {
      "application/vnd.jupyter.widget-view+json": {
       "model_id": "918ab6594af640bc96aec6702115683a",
       "version_major": 2,
       "version_minor": 0
      },
      "text/plain": [
       "  0%|          | 0/26 [00:00<?, ?it/s]"
      ]
     },
     "metadata": {},
     "output_type": "display_data"
    },
    {
     "name": "stderr",
     "output_type": "stream",
     "text": [
      "[codecarbon INFO @ 00:35:46] Energy consumed for RAM : 0.001177 kWh. RAM Power : 47.089237689971924 W\n",
      "[codecarbon INFO @ 00:35:46] Energy consumed for all GPUs : 0.010622 kWh. Total GPU Power : 437.797 W\n",
      "[codecarbon INFO @ 00:35:46] Energy consumed for all CPUs : 0.001063 kWh. Total CPU Power : 42.5 W\n",
      "[codecarbon INFO @ 00:35:46] 0.012862 kWh of electricity used since the beginning.\n"
     ]
    },
    {
     "name": "stdout",
     "output_type": "stream",
     "text": [
      "{'eval_loss': 1.4117571115493774, 'eval_accuracy': 0.4265344079355239, 'eval_f1': 0.42029367135689966, 'eval_runtime': 1.3939, 'eval_samples_per_second': 1157.195, 'eval_steps_per_second': 18.653, 'epoch': 5.0}\n"
     ]
    },
    {
     "name": "stderr",
     "output_type": "stream",
     "text": [
      "[codecarbon INFO @ 00:36:01] Energy consumed for RAM : 0.001373 kWh. RAM Power : 47.089237689971924 W\n",
      "[codecarbon INFO @ 00:36:01] Energy consumed for all GPUs : 0.012381 kWh. Total GPU Power : 422.374 W\n",
      "[codecarbon INFO @ 00:36:01] Energy consumed for all CPUs : 0.001240 kWh. Total CPU Power : 42.5 W\n",
      "[codecarbon INFO @ 00:36:01] 0.014994 kWh of electricity used since the beginning.\n"
     ]
    },
    {
     "name": "stdout",
     "output_type": "stream",
     "text": [
      "{'loss': 0.7694, 'grad_norm': 9.391175270080566, 'learning_rate': 1.7623762376237624e-05, 'epoch': 5.94}\n"
     ]
    },
    {
     "data": {
      "application/vnd.jupyter.widget-view+json": {
       "model_id": "18cb20ef02b04a7eb7b0e70b05af1262",
       "version_major": 2,
       "version_minor": 0
      },
      "text/plain": [
       "  0%|          | 0/26 [00:00<?, ?it/s]"
      ]
     },
     "metadata": {},
     "output_type": "display_data"
    },
    {
     "name": "stdout",
     "output_type": "stream",
     "text": [
      "{'eval_loss': 1.5044193267822266, 'eval_accuracy': 0.43645381277123374, 'eval_f1': 0.4286590369299517, 'eval_runtime': 1.4037, 'eval_samples_per_second': 1149.112, 'eval_steps_per_second': 18.523, 'epoch': 6.0}\n"
     ]
    },
    {
     "name": "stderr",
     "output_type": "stream",
     "text": [
      "[codecarbon INFO @ 00:36:16] Energy consumed for RAM : 0.001569 kWh. RAM Power : 47.089237689971924 W\n",
      "[codecarbon INFO @ 00:36:16] Energy consumed for all GPUs : 0.014140 kWh. Total GPU Power : 422.349 W\n",
      "[codecarbon INFO @ 00:36:16] Energy consumed for all CPUs : 0.001417 kWh. Total CPU Power : 42.5 W\n",
      "[codecarbon INFO @ 00:36:16] 0.017125 kWh of electricity used since the beginning.\n"
     ]
    },
    {
     "name": "stdout",
     "output_type": "stream",
     "text": [
      "{'loss': 0.6563, 'grad_norm': 10.907848358154297, 'learning_rate': 1.722772277227723e-05, 'epoch': 6.93}\n"
     ]
    },
    {
     "data": {
      "application/vnd.jupyter.widget-view+json": {
       "model_id": "5ba2c5911d954728bbda3c81f5811f54",
       "version_major": 2,
       "version_minor": 0
      },
      "text/plain": [
       "  0%|          | 0/26 [00:00<?, ?it/s]"
      ]
     },
     "metadata": {},
     "output_type": "display_data"
    },
    {
     "name": "stdout",
     "output_type": "stream",
     "text": [
      "{'eval_loss': 1.6146208047866821, 'eval_accuracy': 0.43645381277123374, 'eval_f1': 0.4306229862856593, 'eval_runtime': 1.4079, 'eval_samples_per_second': 1145.648, 'eval_steps_per_second': 18.467, 'epoch': 7.0}\n"
     ]
    },
    {
     "name": "stderr",
     "output_type": "stream",
     "text": [
      "[codecarbon INFO @ 00:36:31] Energy consumed for RAM : 0.001765 kWh. RAM Power : 47.089237689971924 W\n",
      "[codecarbon INFO @ 00:36:31] Energy consumed for all GPUs : 0.015914 kWh. Total GPU Power : 425.979 W\n",
      "[codecarbon INFO @ 00:36:31] Energy consumed for all CPUs : 0.001594 kWh. Total CPU Power : 42.5 W\n",
      "[codecarbon INFO @ 00:36:31] 0.019272 kWh of electricity used since the beginning.\n"
     ]
    },
    {
     "name": "stdout",
     "output_type": "stream",
     "text": [
      "{'loss': 0.5662, 'grad_norm': 5.384808540344238, 'learning_rate': 1.683168316831683e-05, 'epoch': 7.92}\n"
     ]
    },
    {
     "data": {
      "application/vnd.jupyter.widget-view+json": {
       "model_id": "b8b138f2012646e197682ba388afd474",
       "version_major": 2,
       "version_minor": 0
      },
      "text/plain": [
       "  0%|          | 0/26 [00:00<?, ?it/s]"
      ]
     },
     "metadata": {},
     "output_type": "display_data"
    },
    {
     "name": "stdout",
     "output_type": "stream",
     "text": [
      "{'eval_loss': 1.7309082746505737, 'eval_accuracy': 0.4209547427154371, 'eval_f1': 0.4126839907522451, 'eval_runtime': 1.4446, 'eval_samples_per_second': 1116.593, 'eval_steps_per_second': 17.998, 'epoch': 8.0}\n"
     ]
    },
    {
     "name": "stderr",
     "output_type": "stream",
     "text": [
      "[codecarbon INFO @ 00:36:46] Energy consumed for RAM : 0.001961 kWh. RAM Power : 47.089237689971924 W\n",
      "[codecarbon INFO @ 00:36:46] Energy consumed for all GPUs : 0.017669 kWh. Total GPU Power : 421.38800000000003 W\n",
      "[codecarbon INFO @ 00:36:46] Energy consumed for all CPUs : 0.001771 kWh. Total CPU Power : 42.5 W\n",
      "[codecarbon INFO @ 00:36:46] 0.021401 kWh of electricity used since the beginning.\n"
     ]
    },
    {
     "name": "stdout",
     "output_type": "stream",
     "text": [
      "{'loss': 0.4843, 'grad_norm': 8.698976516723633, 'learning_rate': 1.6435643564356436e-05, 'epoch': 8.91}\n"
     ]
    },
    {
     "data": {
      "application/vnd.jupyter.widget-view+json": {
       "model_id": "7f2bb0bab69d497bbef4b58f878c7f86",
       "version_major": 2,
       "version_minor": 0
      },
      "text/plain": [
       "  0%|          | 0/26 [00:00<?, ?it/s]"
      ]
     },
     "metadata": {},
     "output_type": "display_data"
    },
    {
     "name": "stdout",
     "output_type": "stream",
     "text": [
      "{'eval_loss': 1.8666259050369263, 'eval_accuracy': 0.425914445133292, 'eval_f1': 0.4142926083259471, 'eval_runtime': 1.4496, 'eval_samples_per_second': 1112.698, 'eval_steps_per_second': 17.936, 'epoch': 9.0}\n"
     ]
    },
    {
     "name": "stderr",
     "output_type": "stream",
     "text": [
      "[codecarbon INFO @ 00:37:01] Energy consumed for RAM : 0.002157 kWh. RAM Power : 47.089237689971924 W\n",
      "[codecarbon INFO @ 00:37:01] Energy consumed for all GPUs : 0.019439 kWh. Total GPU Power : 424.985 W\n",
      "[codecarbon INFO @ 00:37:01] Energy consumed for all CPUs : 0.001948 kWh. Total CPU Power : 42.5 W\n",
      "[codecarbon INFO @ 00:37:01] 0.023544 kWh of electricity used since the beginning.\n"
     ]
    },
    {
     "name": "stdout",
     "output_type": "stream",
     "text": [
      "{'loss': 0.4241, 'grad_norm': 6.500135898590088, 'learning_rate': 1.6039603960396042e-05, 'epoch': 9.9}\n"
     ]
    },
    {
     "name": "stderr",
     "output_type": "stream",
     "text": [
      "[codecarbon INFO @ 00:37:16] Energy consumed for RAM : 0.002353 kWh. RAM Power : 47.089237689971924 W\n",
      "[codecarbon INFO @ 00:37:16] Energy consumed for all GPUs : 0.020952 kWh. Total GPU Power : 363.389 W\n",
      "[codecarbon INFO @ 00:37:16] Energy consumed for all CPUs : 0.002125 kWh. Total CPU Power : 42.5 W\n",
      "[codecarbon INFO @ 00:37:16] 0.025430 kWh of electricity used since the beginning.\n"
     ]
    },
    {
     "data": {
      "application/vnd.jupyter.widget-view+json": {
       "model_id": "56c80abd66db499c9109903bc2985479",
       "version_major": 2,
       "version_minor": 0
      },
      "text/plain": [
       "  0%|          | 0/26 [00:00<?, ?it/s]"
      ]
     },
     "metadata": {},
     "output_type": "display_data"
    },
    {
     "name": "stdout",
     "output_type": "stream",
     "text": [
      "{'eval_loss': 1.9916329383850098, 'eval_accuracy': 0.4246745195288283, 'eval_f1': 0.4196038259654651, 'eval_runtime': 1.4553, 'eval_samples_per_second': 1108.326, 'eval_steps_per_second': 17.865, 'epoch': 10.0}\n"
     ]
    },
    {
     "name": "stderr",
     "output_type": "stream",
     "text": [
      "[codecarbon INFO @ 00:37:31] Energy consumed for RAM : 0.002549 kWh. RAM Power : 47.089237689971924 W\n",
      "[codecarbon INFO @ 00:37:31] Energy consumed for all GPUs : 0.022718 kWh. Total GPU Power : 423.82800000000003 W\n",
      "[codecarbon INFO @ 00:37:31] Energy consumed for all CPUs : 0.002302 kWh. Total CPU Power : 42.5 W\n",
      "[codecarbon INFO @ 00:37:31] 0.027569 kWh of electricity used since the beginning.\n"
     ]
    },
    {
     "name": "stdout",
     "output_type": "stream",
     "text": [
      "{'loss': 0.3787, 'grad_norm': 4.676565647125244, 'learning_rate': 1.5643564356435644e-05, 'epoch': 10.89}\n"
     ]
    },
    {
     "data": {
      "application/vnd.jupyter.widget-view+json": {
       "model_id": "3ca153f3934243d3bb65868973031684",
       "version_major": 2,
       "version_minor": 0
      },
      "text/plain": [
       "  0%|          | 0/26 [00:00<?, ?it/s]"
      ]
     },
     "metadata": {},
     "output_type": "display_data"
    },
    {
     "name": "stdout",
     "output_type": "stream",
     "text": [
      "{'eval_loss': 2.0590460300445557, 'eval_accuracy': 0.4228146311221327, 'eval_f1': 0.41609077678236367, 'eval_runtime': 1.4601, 'eval_samples_per_second': 1104.703, 'eval_steps_per_second': 17.807, 'epoch': 11.0}\n"
     ]
    },
    {
     "name": "stderr",
     "output_type": "stream",
     "text": [
      "[codecarbon INFO @ 00:37:46] Energy consumed for RAM : 0.002745 kWh. RAM Power : 47.089237689971924 W\n",
      "[codecarbon INFO @ 00:37:46] Energy consumed for all GPUs : 0.024479 kWh. Total GPU Power : 422.9120000000001 W\n",
      "[codecarbon INFO @ 00:37:46] Energy consumed for all CPUs : 0.002479 kWh. Total CPU Power : 42.5 W\n",
      "[codecarbon INFO @ 00:37:46] 0.029703 kWh of electricity used since the beginning.\n"
     ]
    },
    {
     "name": "stdout",
     "output_type": "stream",
     "text": [
      "{'loss': 0.3333, 'grad_norm': 6.7780961990356445, 'learning_rate': 1.5247524752475249e-05, 'epoch': 11.88}\n"
     ]
    },
    {
     "data": {
      "application/vnd.jupyter.widget-view+json": {
       "model_id": "6f180b850e8c46949eb69c4ba9d0c026",
       "version_major": 2,
       "version_minor": 0
      },
      "text/plain": [
       "  0%|          | 0/26 [00:00<?, ?it/s]"
      ]
     },
     "metadata": {},
     "output_type": "display_data"
    },
    {
     "name": "stdout",
     "output_type": "stream",
     "text": [
      "{'eval_loss': 2.1730246543884277, 'eval_accuracy': 0.4209547427154371, 'eval_f1': 0.4206885173110899, 'eval_runtime': 1.4674, 'eval_samples_per_second': 1099.249, 'eval_steps_per_second': 17.719, 'epoch': 12.0}\n"
     ]
    },
    {
     "name": "stderr",
     "output_type": "stream",
     "text": [
      "[codecarbon INFO @ 00:38:01] Energy consumed for RAM : 0.002941 kWh. RAM Power : 47.089237689971924 W\n",
      "[codecarbon INFO @ 00:38:01] Energy consumed for all GPUs : 0.026242 kWh. Total GPU Power : 423.39700000000005 W\n",
      "[codecarbon INFO @ 00:38:01] Energy consumed for all CPUs : 0.002656 kWh. Total CPU Power : 42.5 W\n",
      "[codecarbon INFO @ 00:38:01] 0.031840 kWh of electricity used since the beginning.\n"
     ]
    },
    {
     "name": "stdout",
     "output_type": "stream",
     "text": [
      "{'loss': 0.3013, 'grad_norm': 6.376185417175293, 'learning_rate': 1.4851485148514853e-05, 'epoch': 12.87}\n"
     ]
    },
    {
     "data": {
      "application/vnd.jupyter.widget-view+json": {
       "model_id": "32d31146db064f2f8b61f6b8f02424f5",
       "version_major": 2,
       "version_minor": 0
      },
      "text/plain": [
       "  0%|          | 0/26 [00:00<?, ?it/s]"
      ]
     },
     "metadata": {},
     "output_type": "display_data"
    },
    {
     "name": "stdout",
     "output_type": "stream",
     "text": [
      "{'eval_loss': 2.2156178951263428, 'eval_accuracy': 0.42157470551766896, 'eval_f1': 0.4179584067116521, 'eval_runtime': 1.4715, 'eval_samples_per_second': 1096.186, 'eval_steps_per_second': 17.669, 'epoch': 13.0}\n"
     ]
    },
    {
     "name": "stderr",
     "output_type": "stream",
     "text": [
      "[codecarbon INFO @ 00:38:16] Energy consumed for RAM : 0.003138 kWh. RAM Power : 47.089237689971924 W\n",
      "[codecarbon INFO @ 00:38:16] Energy consumed for all GPUs : 0.028012 kWh. Total GPU Power : 424.914 W\n",
      "[codecarbon INFO @ 00:38:16] Energy consumed for all CPUs : 0.002833 kWh. Total CPU Power : 42.5 W\n",
      "[codecarbon INFO @ 00:38:16] 0.033983 kWh of electricity used since the beginning.\n"
     ]
    },
    {
     "name": "stdout",
     "output_type": "stream",
     "text": [
      "{'loss': 0.2705, 'grad_norm': 10.628586769104004, 'learning_rate': 1.4455445544554456e-05, 'epoch': 13.86}\n"
     ]
    },
    {
     "name": "stderr",
     "output_type": "stream",
     "text": [
      "[codecarbon INFO @ 00:38:31] Energy consumed for RAM : 0.003334 kWh. RAM Power : 47.089237689971924 W\n",
      "[codecarbon INFO @ 00:38:31] Energy consumed for all GPUs : 0.029782 kWh. Total GPU Power : 425.175 W\n",
      "[codecarbon INFO @ 00:38:31] Energy consumed for all CPUs : 0.003010 kWh. Total CPU Power : 42.5 W\n",
      "[codecarbon INFO @ 00:38:31] 0.036127 kWh of electricity used since the beginning.\n"
     ]
    },
    {
     "data": {
      "application/vnd.jupyter.widget-view+json": {
       "model_id": "97a597e199614af9a9eae44907471035",
       "version_major": 2,
       "version_minor": 0
      },
      "text/plain": [
       "  0%|          | 0/26 [00:00<?, ?it/s]"
      ]
     },
     "metadata": {},
     "output_type": "display_data"
    },
    {
     "name": "stdout",
     "output_type": "stream",
     "text": [
      "{'eval_loss': 2.350517511367798, 'eval_accuracy': 0.4221946683199008, 'eval_f1': 0.41809538745936053, 'eval_runtime': 1.473, 'eval_samples_per_second': 1095.018, 'eval_steps_per_second': 17.651, 'epoch': 14.0}\n"
     ]
    },
    {
     "name": "stderr",
     "output_type": "stream",
     "text": [
      "[codecarbon INFO @ 00:38:46] Energy consumed for RAM : 0.003530 kWh. RAM Power : 47.089237689971924 W\n",
      "[codecarbon INFO @ 00:38:46] Energy consumed for all GPUs : 0.031544 kWh. Total GPU Power : 423.119 W\n",
      "[codecarbon INFO @ 00:38:46] Energy consumed for all CPUs : 0.003187 kWh. Total CPU Power : 42.5 W\n",
      "[codecarbon INFO @ 00:38:46] 0.038261 kWh of electricity used since the beginning.\n"
     ]
    },
    {
     "name": "stdout",
     "output_type": "stream",
     "text": [
      "{'loss': 0.241, 'grad_norm': 11.005358695983887, 'learning_rate': 1.405940594059406e-05, 'epoch': 14.85}\n"
     ]
    },
    {
     "data": {
      "application/vnd.jupyter.widget-view+json": {
       "model_id": "20c86d94cb0d49f2b63c80bf2d2d0d0d",
       "version_major": 2,
       "version_minor": 0
      },
      "text/plain": [
       "  0%|          | 0/26 [00:00<?, ?it/s]"
      ]
     },
     "metadata": {},
     "output_type": "display_data"
    },
    {
     "name": "stdout",
     "output_type": "stream",
     "text": [
      "{'eval_loss': 2.4542922973632812, 'eval_accuracy': 0.42343459392436456, 'eval_f1': 0.417722615781596, 'eval_runtime': 1.4635, 'eval_samples_per_second': 1102.19, 'eval_steps_per_second': 17.766, 'epoch': 15.0}\n"
     ]
    },
    {
     "name": "stderr",
     "output_type": "stream",
     "text": [
      "[codecarbon INFO @ 00:39:01] Energy consumed for RAM : 0.003726 kWh. RAM Power : 47.089237689971924 W\n",
      "[codecarbon INFO @ 00:39:01] Energy consumed for all GPUs : 0.033291 kWh. Total GPU Power : 419.591 W\n",
      "[codecarbon INFO @ 00:39:01] Energy consumed for all CPUs : 0.003365 kWh. Total CPU Power : 42.5 W\n",
      "[codecarbon INFO @ 00:39:01] 0.040381 kWh of electricity used since the beginning.\n"
     ]
    },
    {
     "name": "stdout",
     "output_type": "stream",
     "text": [
      "{'loss': 0.2172, 'grad_norm': 10.109076499938965, 'learning_rate': 1.3663366336633666e-05, 'epoch': 15.84}\n"
     ]
    },
    {
     "data": {
      "application/vnd.jupyter.widget-view+json": {
       "model_id": "b6bff7cd2d944f9ca62041d142d16989",
       "version_major": 2,
       "version_minor": 0
      },
      "text/plain": [
       "  0%|          | 0/26 [00:00<?, ?it/s]"
      ]
     },
     "metadata": {},
     "output_type": "display_data"
    },
    {
     "name": "stdout",
     "output_type": "stream",
     "text": [
      "{'eval_loss': 2.4745032787323, 'eval_accuracy': 0.4339739615623063, 'eval_f1': 0.42838937359675666, 'eval_runtime': 1.4536, 'eval_samples_per_second': 1109.673, 'eval_steps_per_second': 17.887, 'epoch': 16.0}\n"
     ]
    },
    {
     "name": "stderr",
     "output_type": "stream",
     "text": [
      "[codecarbon INFO @ 00:39:16] Energy consumed for RAM : 0.003922 kWh. RAM Power : 47.089237689971924 W\n",
      "[codecarbon INFO @ 00:39:16] Energy consumed for all GPUs : 0.035061 kWh. Total GPU Power : 424.982 W\n",
      "[codecarbon INFO @ 00:39:16] Energy consumed for all CPUs : 0.003542 kWh. Total CPU Power : 42.5 W\n",
      "[codecarbon INFO @ 00:39:16] 0.042525 kWh of electricity used since the beginning.\n"
     ]
    },
    {
     "name": "stdout",
     "output_type": "stream",
     "text": [
      "{'loss': 0.2109, 'grad_norm': 7.432161808013916, 'learning_rate': 1.326732673267327e-05, 'epoch': 16.83}\n"
     ]
    },
    {
     "data": {
      "application/vnd.jupyter.widget-view+json": {
       "model_id": "2be99cf01e6c40b2b26e2cc81b500097",
       "version_major": 2,
       "version_minor": 0
      },
      "text/plain": [
       "  0%|          | 0/26 [00:00<?, ?it/s]"
      ]
     },
     "metadata": {},
     "output_type": "display_data"
    },
    {
     "name": "stdout",
     "output_type": "stream",
     "text": [
      "{'eval_loss': 2.5695042610168457, 'eval_accuracy': 0.43087414755114695, 'eval_f1': 0.42426678682346275, 'eval_runtime': 1.4472, 'eval_samples_per_second': 1114.585, 'eval_steps_per_second': 17.966, 'epoch': 17.0}\n"
     ]
    },
    {
     "name": "stderr",
     "output_type": "stream",
     "text": [
      "[codecarbon INFO @ 00:39:31] Energy consumed for RAM : 0.004118 kWh. RAM Power : 47.089237689971924 W\n",
      "[codecarbon INFO @ 00:39:31] Energy consumed for all GPUs : 0.036836 kWh. Total GPU Power : 426.089 W\n",
      "[codecarbon INFO @ 00:39:31] Energy consumed for all CPUs : 0.003719 kWh. Total CPU Power : 42.5 W\n",
      "[codecarbon INFO @ 00:39:31] 0.044672 kWh of electricity used since the beginning.\n"
     ]
    },
    {
     "name": "stdout",
     "output_type": "stream",
     "text": [
      "{'loss': 0.1991, 'grad_norm': 5.023053169250488, 'learning_rate': 1.2871287128712873e-05, 'epoch': 17.82}\n"
     ]
    },
    {
     "name": "stderr",
     "output_type": "stream",
     "text": [
      "[codecarbon INFO @ 00:39:46] Energy consumed for RAM : 0.004314 kWh. RAM Power : 47.089237689971924 W\n",
      "[codecarbon INFO @ 00:39:46] Energy consumed for all GPUs : 0.038605 kWh. Total GPU Power : 424.89300000000003 W\n",
      "[codecarbon INFO @ 00:39:46] Energy consumed for all CPUs : 0.003896 kWh. Total CPU Power : 42.5 W\n",
      "[codecarbon INFO @ 00:39:46] 0.046815 kWh of electricity used since the beginning.\n"
     ]
    },
    {
     "data": {
      "application/vnd.jupyter.widget-view+json": {
       "model_id": "96d24806fc824597805d68fad86aca0d",
       "version_major": 2,
       "version_minor": 0
      },
      "text/plain": [
       "  0%|          | 0/26 [00:00<?, ?it/s]"
      ]
     },
     "metadata": {},
     "output_type": "display_data"
    },
    {
     "name": "stdout",
     "output_type": "stream",
     "text": [
      "{'eval_loss': 2.663992166519165, 'eval_accuracy': 0.4246745195288283, 'eval_f1': 0.4199388538159469, 'eval_runtime': 1.4528, 'eval_samples_per_second': 1110.255, 'eval_steps_per_second': 17.896, 'epoch': 18.0}\n"
     ]
    },
    {
     "name": "stderr",
     "output_type": "stream",
     "text": [
      "[codecarbon INFO @ 00:40:01] Energy consumed for RAM : 0.004510 kWh. RAM Power : 47.089237689971924 W\n",
      "[codecarbon INFO @ 00:40:01] Energy consumed for all GPUs : 0.040378 kWh. Total GPU Power : 425.589 W\n",
      "[codecarbon INFO @ 00:40:01] Energy consumed for all CPUs : 0.004073 kWh. Total CPU Power : 42.5 W\n",
      "[codecarbon INFO @ 00:40:01] 0.048961 kWh of electricity used since the beginning.\n"
     ]
    },
    {
     "name": "stdout",
     "output_type": "stream",
     "text": [
      "{'loss': 0.1741, 'grad_norm': 5.229251861572266, 'learning_rate': 1.2475247524752477e-05, 'epoch': 18.81}\n"
     ]
    },
    {
     "data": {
      "application/vnd.jupyter.widget-view+json": {
       "model_id": "54f35e4462294dde9a9be661a2cdad14",
       "version_major": 2,
       "version_minor": 0
      },
      "text/plain": [
       "  0%|          | 0/26 [00:00<?, ?it/s]"
      ]
     },
     "metadata": {},
     "output_type": "display_data"
    },
    {
     "name": "stdout",
     "output_type": "stream",
     "text": [
      "{'eval_loss': 2.7576229572296143, 'eval_accuracy': 0.4221946683199008, 'eval_f1': 0.4229713860145098, 'eval_runtime': 1.4554, 'eval_samples_per_second': 1108.254, 'eval_steps_per_second': 17.864, 'epoch': 19.0}\n"
     ]
    },
    {
     "name": "stderr",
     "output_type": "stream",
     "text": [
      "[codecarbon INFO @ 00:40:16] Energy consumed for RAM : 0.004706 kWh. RAM Power : 47.089237689971924 W\n",
      "[codecarbon INFO @ 00:40:16] Energy consumed for all GPUs : 0.042138 kWh. Total GPU Power : 422.672 W\n",
      "[codecarbon INFO @ 00:40:16] Energy consumed for all CPUs : 0.004250 kWh. Total CPU Power : 42.5 W\n",
      "[codecarbon INFO @ 00:40:16] 0.051094 kWh of electricity used since the beginning.\n"
     ]
    },
    {
     "name": "stdout",
     "output_type": "stream",
     "text": [
      "{'loss': 0.1728, 'grad_norm': 8.481306076049805, 'learning_rate': 1.207920792079208e-05, 'epoch': 19.8}\n"
     ]
    },
    {
     "data": {
      "application/vnd.jupyter.widget-view+json": {
       "model_id": "f644fb5b83b14caabafd0b9d6f9a3bc4",
       "version_major": 2,
       "version_minor": 0
      },
      "text/plain": [
       "  0%|          | 0/26 [00:00<?, ?it/s]"
      ]
     },
     "metadata": {},
     "output_type": "display_data"
    },
    {
     "name": "stdout",
     "output_type": "stream",
     "text": [
      "{'eval_loss': 2.843515396118164, 'eval_accuracy': 0.4314941103533788, 'eval_f1': 0.42944849050457423, 'eval_runtime': 1.4527, 'eval_samples_per_second': 1110.356, 'eval_steps_per_second': 17.898, 'epoch': 20.0}\n"
     ]
    },
    {
     "name": "stderr",
     "output_type": "stream",
     "text": [
      "[codecarbon INFO @ 00:40:31] Energy consumed for RAM : 0.004902 kWh. RAM Power : 47.089237689971924 W\n",
      "[codecarbon INFO @ 00:40:31] Energy consumed for all GPUs : 0.043908 kWh. Total GPU Power : 425.096 W\n",
      "[codecarbon INFO @ 00:40:31] Energy consumed for all CPUs : 0.004427 kWh. Total CPU Power : 42.5 W\n",
      "[codecarbon INFO @ 00:40:31] 0.053237 kWh of electricity used since the beginning.\n"
     ]
    },
    {
     "name": "stdout",
     "output_type": "stream",
     "text": [
      "{'loss': 0.1593, 'grad_norm': 5.751913547515869, 'learning_rate': 1.1683168316831684e-05, 'epoch': 20.79}\n"
     ]
    },
    {
     "data": {
      "application/vnd.jupyter.widget-view+json": {
       "model_id": "6d561dcdec6a47acb68f9e067fe259eb",
       "version_major": 2,
       "version_minor": 0
      },
      "text/plain": [
       "  0%|          | 0/26 [00:00<?, ?it/s]"
      ]
     },
     "metadata": {},
     "output_type": "display_data"
    },
    {
     "name": "stdout",
     "output_type": "stream",
     "text": [
      "{'eval_loss': 2.949237585067749, 'eval_accuracy': 0.4240545567265964, 'eval_f1': 0.4199440342014535, 'eval_runtime': 1.4522, 'eval_samples_per_second': 1110.754, 'eval_steps_per_second': 17.904, 'epoch': 21.0}\n"
     ]
    },
    {
     "name": "stderr",
     "output_type": "stream",
     "text": [
      "[codecarbon INFO @ 00:40:46] Energy consumed for RAM : 0.005098 kWh. RAM Power : 47.089237689971924 W\n",
      "[codecarbon INFO @ 00:40:46] Energy consumed for all GPUs : 0.045697 kWh. Total GPU Power : 429.44 W\n",
      "[codecarbon INFO @ 00:40:46] Energy consumed for all CPUs : 0.004604 kWh. Total CPU Power : 42.5 W\n",
      "[codecarbon INFO @ 00:40:46] 0.055399 kWh of electricity used since the beginning.\n"
     ]
    },
    {
     "name": "stdout",
     "output_type": "stream",
     "text": [
      "{'loss': 0.1583, 'grad_norm': 1.5026919841766357, 'learning_rate': 1.1287128712871288e-05, 'epoch': 21.78}\n"
     ]
    },
    {
     "name": "stderr",
     "output_type": "stream",
     "text": [
      "[codecarbon INFO @ 00:41:01] Energy consumed for RAM : 0.005295 kWh. RAM Power : 47.089237689971924 W\n",
      "[codecarbon INFO @ 00:41:01] Energy consumed for all GPUs : 0.047463 kWh. Total GPU Power : 424.18 W\n",
      "[codecarbon INFO @ 00:41:01] Energy consumed for all CPUs : 0.004781 kWh. Total CPU Power : 42.5 W\n",
      "[codecarbon INFO @ 00:41:01] 0.057539 kWh of electricity used since the beginning.\n"
     ]
    },
    {
     "data": {
      "application/vnd.jupyter.widget-view+json": {
       "model_id": "1173a468ef2b432685151614aad38364",
       "version_major": 2,
       "version_minor": 0
      },
      "text/plain": [
       "  0%|          | 0/26 [00:00<?, ?it/s]"
      ]
     },
     "metadata": {},
     "output_type": "display_data"
    },
    {
     "name": "stdout",
     "output_type": "stream",
     "text": [
      "{'eval_loss': 2.947157144546509, 'eval_accuracy': 0.4339739615623063, 'eval_f1': 0.43300189264149175, 'eval_runtime': 1.4527, 'eval_samples_per_second': 1110.371, 'eval_steps_per_second': 17.898, 'epoch': 22.0}\n"
     ]
    },
    {
     "name": "stderr",
     "output_type": "stream",
     "text": [
      "[codecarbon INFO @ 00:41:16] Energy consumed for RAM : 0.005491 kWh. RAM Power : 47.089237689971924 W\n",
      "[codecarbon INFO @ 00:41:16] Energy consumed for all GPUs : 0.049224 kWh. Total GPU Power : 422.72900000000004 W\n",
      "[codecarbon INFO @ 00:41:16] Energy consumed for all CPUs : 0.004958 kWh. Total CPU Power : 42.5 W\n",
      "[codecarbon INFO @ 00:41:16] 0.059672 kWh of electricity used since the beginning.\n"
     ]
    },
    {
     "name": "stdout",
     "output_type": "stream",
     "text": [
      "{'loss': 0.1529, 'grad_norm': 3.9552767276763916, 'learning_rate': 1.0891089108910893e-05, 'epoch': 22.77}\n"
     ]
    },
    {
     "data": {
      "application/vnd.jupyter.widget-view+json": {
       "model_id": "cb952067e82c402092fbac988d8524da",
       "version_major": 2,
       "version_minor": 0
      },
      "text/plain": [
       "  0%|          | 0/26 [00:00<?, ?it/s]"
      ]
     },
     "metadata": {},
     "output_type": "display_data"
    },
    {
     "name": "stdout",
     "output_type": "stream",
     "text": [
      "{'eval_loss': 3.0355842113494873, 'eval_accuracy': 0.4333539987600744, 'eval_f1': 0.4311648530447948, 'eval_runtime': 1.4568, 'eval_samples_per_second': 1107.202, 'eval_steps_per_second': 17.847, 'epoch': 23.0}\n"
     ]
    },
    {
     "name": "stderr",
     "output_type": "stream",
     "text": [
      "[codecarbon INFO @ 00:41:31] Energy consumed for RAM : 0.005687 kWh. RAM Power : 47.089237689971924 W\n",
      "[codecarbon INFO @ 00:41:31] Energy consumed for all GPUs : 0.050989 kWh. Total GPU Power : 423.9720000000001 W\n",
      "[codecarbon INFO @ 00:41:31] Energy consumed for all CPUs : 0.005135 kWh. Total CPU Power : 42.5 W\n",
      "[codecarbon INFO @ 00:41:31] 0.061811 kWh of electricity used since the beginning.\n"
     ]
    },
    {
     "name": "stdout",
     "output_type": "stream",
     "text": [
      "{'loss': 0.1502, 'grad_norm': 4.197231769561768, 'learning_rate': 1.0495049504950497e-05, 'epoch': 23.76}\n"
     ]
    },
    {
     "data": {
      "application/vnd.jupyter.widget-view+json": {
       "model_id": "6ef66c7035524c53af609f7f11ced375",
       "version_major": 2,
       "version_minor": 0
      },
      "text/plain": [
       "  0%|          | 0/26 [00:00<?, ?it/s]"
      ]
     },
     "metadata": {},
     "output_type": "display_data"
    },
    {
     "name": "stdout",
     "output_type": "stream",
     "text": [
      "{'eval_loss': 3.1001651287078857, 'eval_accuracy': 0.43273403595784254, 'eval_f1': 0.42971120284208764, 'eval_runtime': 1.3871, 'eval_samples_per_second': 1162.891, 'eval_steps_per_second': 18.745, 'epoch': 24.0}\n"
     ]
    },
    {
     "name": "stderr",
     "output_type": "stream",
     "text": [
      "[codecarbon INFO @ 00:41:46] Energy consumed for RAM : 0.005883 kWh. RAM Power : 47.089237689971924 W\n",
      "[codecarbon INFO @ 00:41:46] Energy consumed for all GPUs : 0.052764 kWh. Total GPU Power : 426.012 W\n",
      "[codecarbon INFO @ 00:41:46] Energy consumed for all CPUs : 0.005312 kWh. Total CPU Power : 42.5 W\n",
      "[codecarbon INFO @ 00:41:46] 0.063959 kWh of electricity used since the beginning.\n"
     ]
    },
    {
     "name": "stdout",
     "output_type": "stream",
     "text": [
      "{'loss': 0.1359, 'grad_norm': 0.9672303199768066, 'learning_rate': 1.00990099009901e-05, 'epoch': 24.75}\n"
     ]
    },
    {
     "data": {
      "application/vnd.jupyter.widget-view+json": {
       "model_id": "f860c86aae8b44af839f5597b471b335",
       "version_major": 2,
       "version_minor": 0
      },
      "text/plain": [
       "  0%|          | 0/26 [00:00<?, ?it/s]"
      ]
     },
     "metadata": {},
     "output_type": "display_data"
    },
    {
     "name": "stdout",
     "output_type": "stream",
     "text": [
      "{'eval_loss': 3.2255496978759766, 'eval_accuracy': 0.44141351518908867, 'eval_f1': 0.4364585327657345, 'eval_runtime': 1.3444, 'eval_samples_per_second': 1199.767, 'eval_steps_per_second': 19.339, 'epoch': 25.0}\n"
     ]
    },
    {
     "name": "stderr",
     "output_type": "stream",
     "text": [
      "[codecarbon INFO @ 00:42:01] Energy consumed for RAM : 0.006079 kWh. RAM Power : 47.089237689971924 W\n",
      "[codecarbon INFO @ 00:42:01] Energy consumed for all GPUs : 0.054548 kWh. Total GPU Power : 428.409 W\n",
      "[codecarbon INFO @ 00:42:01] Energy consumed for all CPUs : 0.005489 kWh. Total CPU Power : 42.5 W\n",
      "[codecarbon INFO @ 00:42:01] 0.066116 kWh of electricity used since the beginning.\n"
     ]
    },
    {
     "name": "stdout",
     "output_type": "stream",
     "text": [
      "{'loss': 0.1386, 'grad_norm': 2.0345726013183594, 'learning_rate': 9.702970297029704e-06, 'epoch': 25.74}\n"
     ]
    },
    {
     "data": {
      "application/vnd.jupyter.widget-view+json": {
       "model_id": "22b3b4654de14438a165cd447588af2e",
       "version_major": 2,
       "version_minor": 0
      },
      "text/plain": [
       "  0%|          | 0/26 [00:00<?, ?it/s]"
      ]
     },
     "metadata": {},
     "output_type": "display_data"
    },
    {
     "name": "stderr",
     "output_type": "stream",
     "text": [
      "[codecarbon INFO @ 00:42:16] Energy consumed for RAM : 0.006275 kWh. RAM Power : 47.089237689971924 W\n",
      "[codecarbon INFO @ 00:42:16] Energy consumed for all GPUs : 0.056379 kWh. Total GPU Power : 439.74 W\n",
      "[codecarbon INFO @ 00:42:16] Energy consumed for all CPUs : 0.005667 kWh. Total CPU Power : 42.5 W\n",
      "[codecarbon INFO @ 00:42:16] 0.068321 kWh of electricity used since the beginning.\n"
     ]
    },
    {
     "name": "stdout",
     "output_type": "stream",
     "text": [
      "{'eval_loss': 3.271684169769287, 'eval_accuracy': 0.4240545567265964, 'eval_f1': 0.42063407650962875, 'eval_runtime': 1.344, 'eval_samples_per_second': 1200.147, 'eval_steps_per_second': 19.345, 'epoch': 26.0}\n",
      "{'loss': 0.1322, 'grad_norm': 2.6803431510925293, 'learning_rate': 9.306930693069308e-06, 'epoch': 26.73}\n"
     ]
    },
    {
     "name": "stderr",
     "output_type": "stream",
     "text": [
      "[codecarbon INFO @ 00:42:31] Energy consumed for RAM : 0.006471 kWh. RAM Power : 47.089237689971924 W\n",
      "[codecarbon INFO @ 00:42:31] Energy consumed for all GPUs : 0.058173 kWh. Total GPU Power : 430.981 W\n",
      "[codecarbon INFO @ 00:42:31] Energy consumed for all CPUs : 0.005844 kWh. Total CPU Power : 42.5 W\n",
      "[codecarbon INFO @ 00:42:31] 0.070488 kWh of electricity used since the beginning.\n"
     ]
    },
    {
     "data": {
      "application/vnd.jupyter.widget-view+json": {
       "model_id": "957c7a5523dc4192a877aaf8060204f8",
       "version_major": 2,
       "version_minor": 0
      },
      "text/plain": [
       "  0%|          | 0/26 [00:00<?, ?it/s]"
      ]
     },
     "metadata": {},
     "output_type": "display_data"
    },
    {
     "name": "stdout",
     "output_type": "stream",
     "text": [
      "{'eval_loss': 3.312886953353882, 'eval_accuracy': 0.42157470551766896, 'eval_f1': 0.41813268402325726, 'eval_runtime': 1.3429, 'eval_samples_per_second': 1201.136, 'eval_steps_per_second': 19.361, 'epoch': 27.0}\n",
      "{'loss': 0.1334, 'grad_norm': 1.7882691621780396, 'learning_rate': 8.910891089108911e-06, 'epoch': 27.72}\n"
     ]
    },
    {
     "name": "stderr",
     "output_type": "stream",
     "text": [
      "[codecarbon INFO @ 00:42:46] Energy consumed for RAM : 0.006667 kWh. RAM Power : 47.089237689971924 W\n",
      "[codecarbon INFO @ 00:42:46] Energy consumed for all GPUs : 0.059962 kWh. Total GPU Power : 429.508 W\n",
      "[codecarbon INFO @ 00:42:46] Energy consumed for all CPUs : 0.006021 kWh. Total CPU Power : 42.5 W\n",
      "[codecarbon INFO @ 00:42:46] 0.072650 kWh of electricity used since the beginning.\n"
     ]
    },
    {
     "data": {
      "application/vnd.jupyter.widget-view+json": {
       "model_id": "dbf10a18171449e6ba90db5bac908d8c",
       "version_major": 2,
       "version_minor": 0
      },
      "text/plain": [
       "  0%|          | 0/26 [00:00<?, ?it/s]"
      ]
     },
     "metadata": {},
     "output_type": "display_data"
    },
    {
     "name": "stdout",
     "output_type": "stream",
     "text": [
      "{'eval_loss': 3.341648578643799, 'eval_accuracy': 0.43273403595784254, 'eval_f1': 0.430071578692956, 'eval_runtime': 1.343, 'eval_samples_per_second': 1201.015, 'eval_steps_per_second': 19.359, 'epoch': 28.0}\n"
     ]
    },
    {
     "name": "stderr",
     "output_type": "stream",
     "text": [
      "[codecarbon INFO @ 00:43:01] Energy consumed for RAM : 0.006863 kWh. RAM Power : 47.089237689971924 W\n",
      "[codecarbon INFO @ 00:43:01] Energy consumed for all GPUs : 0.061756 kWh. Total GPU Power : 430.782 W\n",
      "[codecarbon INFO @ 00:43:01] Energy consumed for all CPUs : 0.006198 kWh. Total CPU Power : 42.5 W\n",
      "[codecarbon INFO @ 00:43:01] 0.074817 kWh of electricity used since the beginning.\n"
     ]
    },
    {
     "name": "stdout",
     "output_type": "stream",
     "text": [
      "{'loss': 0.1328, 'grad_norm': 3.9640815258026123, 'learning_rate': 8.514851485148515e-06, 'epoch': 28.71}\n"
     ]
    },
    {
     "data": {
      "application/vnd.jupyter.widget-view+json": {
       "model_id": "be9c3d9d5e374ceeacab8b713bb60398",
       "version_major": 2,
       "version_minor": 0
      },
      "text/plain": [
       "  0%|          | 0/26 [00:00<?, ?it/s]"
      ]
     },
     "metadata": {},
     "output_type": "display_data"
    },
    {
     "name": "stdout",
     "output_type": "stream",
     "text": [
      "{'eval_loss': 3.3248260021209717, 'eval_accuracy': 0.43831370117792934, 'eval_f1': 0.43096286995475813, 'eval_runtime': 1.3452, 'eval_samples_per_second': 1199.105, 'eval_steps_per_second': 19.328, 'epoch': 29.0}\n"
     ]
    },
    {
     "name": "stderr",
     "output_type": "stream",
     "text": [
      "[codecarbon INFO @ 00:43:16] Energy consumed for RAM : 0.007059 kWh. RAM Power : 47.089237689971924 W\n",
      "[codecarbon INFO @ 00:43:16] Energy consumed for all GPUs : 0.063547 kWh. Total GPU Power : 429.95900000000006 W\n",
      "[codecarbon INFO @ 00:43:16] Energy consumed for all CPUs : 0.006375 kWh. Total CPU Power : 42.5 W\n",
      "[codecarbon INFO @ 00:43:16] 0.076981 kWh of electricity used since the beginning.\n"
     ]
    },
    {
     "name": "stdout",
     "output_type": "stream",
     "text": [
      "{'loss': 0.1245, 'grad_norm': 4.081998348236084, 'learning_rate': 8.11881188118812e-06, 'epoch': 29.7}\n"
     ]
    },
    {
     "data": {
      "application/vnd.jupyter.widget-view+json": {
       "model_id": "7e99bdfafd7f40e297ad6d306ae24e7a",
       "version_major": 2,
       "version_minor": 0
      },
      "text/plain": [
       "  0%|          | 0/26 [00:00<?, ?it/s]"
      ]
     },
     "metadata": {},
     "output_type": "display_data"
    },
    {
     "name": "stdout",
     "output_type": "stream",
     "text": [
      "{'eval_loss': 3.464672327041626, 'eval_accuracy': 0.425914445133292, 'eval_f1': 0.4256854667615382, 'eval_runtime': 1.3413, 'eval_samples_per_second': 1202.598, 'eval_steps_per_second': 19.385, 'epoch': 30.0}\n"
     ]
    },
    {
     "name": "stderr",
     "output_type": "stream",
     "text": [
      "[codecarbon INFO @ 00:43:31] Energy consumed for RAM : 0.007255 kWh. RAM Power : 47.089237689971924 W\n",
      "[codecarbon INFO @ 00:43:31] Energy consumed for all GPUs : 0.065332 kWh. Total GPU Power : 428.67400000000004 W\n",
      "[codecarbon INFO @ 00:43:31] Energy consumed for all CPUs : 0.006552 kWh. Total CPU Power : 42.5 W\n",
      "[codecarbon INFO @ 00:43:31] 0.079140 kWh of electricity used since the beginning.\n"
     ]
    },
    {
     "name": "stdout",
     "output_type": "stream",
     "text": [
      "{'loss': 0.1255, 'grad_norm': 1.811000108718872, 'learning_rate': 7.722772277227724e-06, 'epoch': 30.69}\n"
     ]
    },
    {
     "data": {
      "application/vnd.jupyter.widget-view+json": {
       "model_id": "03645a59569b4fad86f1760f742670b9",
       "version_major": 2,
       "version_minor": 0
      },
      "text/plain": [
       "  0%|          | 0/26 [00:00<?, ?it/s]"
      ]
     },
     "metadata": {},
     "output_type": "display_data"
    },
    {
     "name": "stdout",
     "output_type": "stream",
     "text": [
      "{'eval_loss': 3.492926836013794, 'eval_accuracy': 0.43459392436453814, 'eval_f1': 0.4318794223696279, 'eval_runtime': 1.3455, 'eval_samples_per_second': 1198.78, 'eval_steps_per_second': 19.323, 'epoch': 31.0}\n"
     ]
    },
    {
     "name": "stderr",
     "output_type": "stream",
     "text": [
      "[codecarbon INFO @ 00:43:46] Energy consumed for RAM : 0.007452 kWh. RAM Power : 47.089237689971924 W\n",
      "[codecarbon INFO @ 00:43:46] Energy consumed for all GPUs : 0.067123 kWh. Total GPU Power : 429.885 W\n",
      "[codecarbon INFO @ 00:43:46] Energy consumed for all CPUs : 0.006729 kWh. Total CPU Power : 42.5 W\n",
      "[codecarbon INFO @ 00:43:46] 0.081303 kWh of electricity used since the beginning.\n"
     ]
    },
    {
     "name": "stdout",
     "output_type": "stream",
     "text": [
      "{'loss': 0.1207, 'grad_norm': 12.650176048278809, 'learning_rate': 7.326732673267327e-06, 'epoch': 31.68}\n"
     ]
    },
    {
     "data": {
      "application/vnd.jupyter.widget-view+json": {
       "model_id": "997a7062d8a44b358ab5e291b34ca73e",
       "version_major": 2,
       "version_minor": 0
      },
      "text/plain": [
       "  0%|          | 0/26 [00:00<?, ?it/s]"
      ]
     },
     "metadata": {},
     "output_type": "display_data"
    },
    {
     "name": "stdout",
     "output_type": "stream",
     "text": [
      "{'eval_loss': 3.505319833755493, 'eval_accuracy': 0.4265344079355239, 'eval_f1': 0.4239024076773926, 'eval_runtime': 1.348, 'eval_samples_per_second': 1196.577, 'eval_steps_per_second': 19.288, 'epoch': 32.0}\n"
     ]
    },
    {
     "name": "stderr",
     "output_type": "stream",
     "text": [
      "[codecarbon INFO @ 00:44:01] Energy consumed for RAM : 0.007648 kWh. RAM Power : 47.089237689971924 W\n",
      "[codecarbon INFO @ 00:44:01] Energy consumed for all GPUs : 0.068926 kWh. Total GPU Power : 432.97400000000005 W\n",
      "[codecarbon INFO @ 00:44:01] Energy consumed for all CPUs : 0.006906 kWh. Total CPU Power : 42.5 W\n",
      "[codecarbon INFO @ 00:44:01] 0.083480 kWh of electricity used since the beginning.\n"
     ]
    },
    {
     "name": "stdout",
     "output_type": "stream",
     "text": [
      "{'loss': 0.118, 'grad_norm': 1.353330373764038, 'learning_rate': 6.930693069306931e-06, 'epoch': 32.67}\n"
     ]
    },
    {
     "name": "stderr",
     "output_type": "stream",
     "text": [
      "[codecarbon INFO @ 00:44:16] Energy consumed for RAM : 0.007844 kWh. RAM Power : 47.089237689971924 W\n",
      "[codecarbon INFO @ 00:44:16] Energy consumed for all GPUs : 0.070723 kWh. Total GPU Power : 431.502 W\n",
      "[codecarbon INFO @ 00:44:16] Energy consumed for all CPUs : 0.007083 kWh. Total CPU Power : 42.5 W\n",
      "[codecarbon INFO @ 00:44:16] 0.085650 kWh of electricity used since the beginning.\n"
     ]
    },
    {
     "data": {
      "application/vnd.jupyter.widget-view+json": {
       "model_id": "f46c9fe2452847d682e0b47dedaaee3d",
       "version_major": 2,
       "version_minor": 0
      },
      "text/plain": [
       "  0%|          | 0/26 [00:00<?, ?it/s]"
      ]
     },
     "metadata": {},
     "output_type": "display_data"
    },
    {
     "name": "stdout",
     "output_type": "stream",
     "text": [
      "{'eval_loss': 3.536648750305176, 'eval_accuracy': 0.4314941103533788, 'eval_f1': 0.42886566012256233, 'eval_runtime': 1.3397, 'eval_samples_per_second': 1203.997, 'eval_steps_per_second': 19.407, 'epoch': 33.0}\n",
      "{'loss': 0.113, 'grad_norm': 2.158576488494873, 'learning_rate': 6.534653465346535e-06, 'epoch': 33.66}\n"
     ]
    },
    {
     "name": "stderr",
     "output_type": "stream",
     "text": [
      "[codecarbon INFO @ 00:44:31] Energy consumed for RAM : 0.008040 kWh. RAM Power : 47.089237689971924 W\n",
      "[codecarbon INFO @ 00:44:31] Energy consumed for all GPUs : 0.072515 kWh. Total GPU Power : 430.387 W\n",
      "[codecarbon INFO @ 00:44:31] Energy consumed for all CPUs : 0.007260 kWh. Total CPU Power : 42.5 W\n",
      "[codecarbon INFO @ 00:44:31] 0.087816 kWh of electricity used since the beginning.\n"
     ]
    },
    {
     "data": {
      "application/vnd.jupyter.widget-view+json": {
       "model_id": "241d0488e23b4821baa0bc266694f14b",
       "version_major": 2,
       "version_minor": 0
      },
      "text/plain": [
       "  0%|          | 0/26 [00:00<?, ?it/s]"
      ]
     },
     "metadata": {},
     "output_type": "display_data"
    },
    {
     "name": "stdout",
     "output_type": "stream",
     "text": [
      "{'eval_loss': 3.561884641647339, 'eval_accuracy': 0.4389336639801612, 'eval_f1': 0.4361351762124563, 'eval_runtime': 1.3426, 'eval_samples_per_second': 1201.375, 'eval_steps_per_second': 19.365, 'epoch': 34.0}\n",
      "{'loss': 0.1241, 'grad_norm': 10.502605438232422, 'learning_rate': 6.138613861386139e-06, 'epoch': 34.65}\n"
     ]
    },
    {
     "name": "stderr",
     "output_type": "stream",
     "text": [
      "[codecarbon INFO @ 00:44:46] Energy consumed for RAM : 0.008236 kWh. RAM Power : 47.089237689971924 W\n",
      "[codecarbon INFO @ 00:44:46] Energy consumed for all GPUs : 0.073554 kWh. Total GPU Power : 249.279 W\n",
      "[codecarbon INFO @ 00:44:46] Energy consumed for all CPUs : 0.007437 kWh. Total CPU Power : 42.5 W\n",
      "[codecarbon INFO @ 00:44:46] 0.089227 kWh of electricity used since the beginning.\n"
     ]
    },
    {
     "data": {
      "application/vnd.jupyter.widget-view+json": {
       "model_id": "d765a40ac6e043ae8612771ea2c0f121",
       "version_major": 2,
       "version_minor": 0
      },
      "text/plain": [
       "  0%|          | 0/26 [00:00<?, ?it/s]"
      ]
     },
     "metadata": {},
     "output_type": "display_data"
    },
    {
     "name": "stdout",
     "output_type": "stream",
     "text": [
      "{'eval_loss': 3.6037256717681885, 'eval_accuracy': 0.44203347799132053, 'eval_f1': 0.4389995169286193, 'eval_runtime': 1.3441, 'eval_samples_per_second': 1200.088, 'eval_steps_per_second': 19.344, 'epoch': 35.0}\n"
     ]
    },
    {
     "name": "stderr",
     "output_type": "stream",
     "text": [
      "[codecarbon INFO @ 00:45:01] Energy consumed for RAM : 0.008432 kWh. RAM Power : 47.089237689971924 W\n",
      "[codecarbon INFO @ 00:45:01] Energy consumed for all GPUs : 0.075342 kWh. Total GPU Power : 429.379 W\n",
      "[codecarbon INFO @ 00:45:01] Energy consumed for all CPUs : 0.007614 kWh. Total CPU Power : 42.5 W\n",
      "[codecarbon INFO @ 00:45:01] 0.091388 kWh of electricity used since the beginning.\n"
     ]
    },
    {
     "name": "stdout",
     "output_type": "stream",
     "text": [
      "{'loss': 0.1134, 'grad_norm': 4.118566036224365, 'learning_rate': 5.7425742574257425e-06, 'epoch': 35.64}\n"
     ]
    },
    {
     "data": {
      "application/vnd.jupyter.widget-view+json": {
       "model_id": "6d4c841d9ec441cab096fec09d6021aa",
       "version_major": 2,
       "version_minor": 0
      },
      "text/plain": [
       "  0%|          | 0/26 [00:00<?, ?it/s]"
      ]
     },
     "metadata": {},
     "output_type": "display_data"
    },
    {
     "name": "stdout",
     "output_type": "stream",
     "text": [
      "{'eval_loss': 3.6590213775634766, 'eval_accuracy': 0.4296342219466832, 'eval_f1': 0.42870602647020023, 'eval_runtime': 1.3427, 'eval_samples_per_second': 1201.353, 'eval_steps_per_second': 19.365, 'epoch': 36.0}\n"
     ]
    },
    {
     "name": "stderr",
     "output_type": "stream",
     "text": [
      "[codecarbon INFO @ 00:45:16] Energy consumed for RAM : 0.008628 kWh. RAM Power : 47.089237689971924 W\n",
      "[codecarbon INFO @ 00:45:16] Energy consumed for all GPUs : 0.077138 kWh. Total GPU Power : 431.18 W\n",
      "[codecarbon INFO @ 00:45:16] Energy consumed for all CPUs : 0.007791 kWh. Total CPU Power : 42.5 W\n",
      "[codecarbon INFO @ 00:45:16] 0.093557 kWh of electricity used since the beginning.\n"
     ]
    },
    {
     "name": "stdout",
     "output_type": "stream",
     "text": [
      "{'loss': 0.1213, 'grad_norm': 2.5359623432159424, 'learning_rate': 5.346534653465347e-06, 'epoch': 36.63}\n"
     ]
    },
    {
     "data": {
      "application/vnd.jupyter.widget-view+json": {
       "model_id": "cbdef8ede9d744e0930d9df1d2822985",
       "version_major": 2,
       "version_minor": 0
      },
      "text/plain": [
       "  0%|          | 0/26 [00:00<?, ?it/s]"
      ]
     },
     "metadata": {},
     "output_type": "display_data"
    },
    {
     "name": "stdout",
     "output_type": "stream",
     "text": [
      "{'eval_loss': 3.658297300338745, 'eval_accuracy': 0.43831370117792934, 'eval_f1': 0.4358728840456353, 'eval_runtime': 1.3411, 'eval_samples_per_second': 1202.721, 'eval_steps_per_second': 19.387, 'epoch': 37.0}\n"
     ]
    },
    {
     "name": "stderr",
     "output_type": "stream",
     "text": [
      "[codecarbon INFO @ 00:45:31] Energy consumed for RAM : 0.008824 kWh. RAM Power : 47.089237689971924 W\n",
      "[codecarbon INFO @ 00:45:31] Energy consumed for all GPUs : 0.078936 kWh. Total GPU Power : 431.77 W\n",
      "[codecarbon INFO @ 00:45:31] Energy consumed for all CPUs : 0.007968 kWh. Total CPU Power : 42.5 W\n",
      "[codecarbon INFO @ 00:45:31] 0.095729 kWh of electricity used since the beginning.\n"
     ]
    },
    {
     "name": "stdout",
     "output_type": "stream",
     "text": [
      "{'loss': 0.1166, 'grad_norm': 1.0166674852371216, 'learning_rate': 4.950495049504951e-06, 'epoch': 37.62}\n"
     ]
    },
    {
     "data": {
      "application/vnd.jupyter.widget-view+json": {
       "model_id": "d1d2982528794620b345ad140d201de8",
       "version_major": 2,
       "version_minor": 0
      },
      "text/plain": [
       "  0%|          | 0/26 [00:00<?, ?it/s]"
      ]
     },
     "metadata": {},
     "output_type": "display_data"
    },
    {
     "name": "stdout",
     "output_type": "stream",
     "text": [
      "{'eval_loss': 3.780691146850586, 'eval_accuracy': 0.42901425914445135, 'eval_f1': 0.4280321595971616, 'eval_runtime': 1.3443, 'eval_samples_per_second': 1199.878, 'eval_steps_per_second': 19.341, 'epoch': 38.0}\n"
     ]
    },
    {
     "name": "stderr",
     "output_type": "stream",
     "text": [
      "[codecarbon INFO @ 00:45:46] Energy consumed for RAM : 0.009020 kWh. RAM Power : 47.089237689971924 W\n",
      "[codecarbon INFO @ 00:45:46] Energy consumed for all GPUs : 0.080734 kWh. Total GPU Power : 431.605 W\n",
      "[codecarbon INFO @ 00:45:46] Energy consumed for all CPUs : 0.008146 kWh. Total CPU Power : 42.5 W\n",
      "[codecarbon INFO @ 00:45:46] 0.097899 kWh of electricity used since the beginning.\n"
     ]
    },
    {
     "name": "stdout",
     "output_type": "stream",
     "text": [
      "{'loss': 0.1056, 'grad_norm': 4.312713623046875, 'learning_rate': 4.554455445544555e-06, 'epoch': 38.61}\n"
     ]
    },
    {
     "data": {
      "application/vnd.jupyter.widget-view+json": {
       "model_id": "1565cfe31a9e4ea68fa405dc136b2ec1",
       "version_major": 2,
       "version_minor": 0
      },
      "text/plain": [
       "  0%|          | 0/26 [00:00<?, ?it/s]"
      ]
     },
     "metadata": {},
     "output_type": "display_data"
    },
    {
     "name": "stderr",
     "output_type": "stream",
     "text": [
      "[codecarbon INFO @ 00:46:01] Energy consumed for RAM : 0.009217 kWh. RAM Power : 47.089237689971924 W\n",
      "[codecarbon INFO @ 00:46:01] Energy consumed for all GPUs : 0.082581 kWh. Total GPU Power : 443.666 W\n",
      "[codecarbon INFO @ 00:46:01] Energy consumed for all CPUs : 0.008323 kWh. Total CPU Power : 42.5 W\n",
      "[codecarbon INFO @ 00:46:01] 0.100121 kWh of electricity used since the beginning.\n"
     ]
    },
    {
     "name": "stdout",
     "output_type": "stream",
     "text": [
      "{'eval_loss': 3.7432632446289062, 'eval_accuracy': 0.4370737755734656, 'eval_f1': 0.4327305654555314, 'eval_runtime': 1.3433, 'eval_samples_per_second': 1200.811, 'eval_steps_per_second': 19.356, 'epoch': 39.0}\n",
      "{'loss': 0.1125, 'grad_norm': 13.773652076721191, 'learning_rate': 4.158415841584159e-06, 'epoch': 39.6}\n"
     ]
    },
    {
     "name": "stderr",
     "output_type": "stream",
     "text": [
      "[codecarbon INFO @ 00:46:16] Energy consumed for RAM : 0.009413 kWh. RAM Power : 47.089237689971924 W\n",
      "[codecarbon INFO @ 00:46:16] Energy consumed for all GPUs : 0.084375 kWh. Total GPU Power : 430.62 W\n",
      "[codecarbon INFO @ 00:46:16] Energy consumed for all CPUs : 0.008500 kWh. Total CPU Power : 42.5 W\n",
      "[codecarbon INFO @ 00:46:16] 0.102287 kWh of electricity used since the beginning.\n"
     ]
    },
    {
     "data": {
      "application/vnd.jupyter.widget-view+json": {
       "model_id": "c7c5759e35974e41a4d7dc15f306cf0b",
       "version_major": 2,
       "version_minor": 0
      },
      "text/plain": [
       "  0%|          | 0/26 [00:00<?, ?it/s]"
      ]
     },
     "metadata": {},
     "output_type": "display_data"
    },
    {
     "name": "stdout",
     "output_type": "stream",
     "text": [
      "{'eval_loss': 3.7473461627960205, 'eval_accuracy': 0.43273403595784254, 'eval_f1': 0.43046365537769543, 'eval_runtime': 1.3389, 'eval_samples_per_second': 1204.683, 'eval_steps_per_second': 19.418, 'epoch': 40.0}\n",
      "{'loss': 0.1112, 'grad_norm': 0.8212347030639648, 'learning_rate': 3.7623762376237625e-06, 'epoch': 40.59}\n"
     ]
    },
    {
     "name": "stderr",
     "output_type": "stream",
     "text": [
      "[codecarbon INFO @ 00:46:31] Energy consumed for RAM : 0.009609 kWh. RAM Power : 47.089237689971924 W\n",
      "[codecarbon INFO @ 00:46:31] Energy consumed for all GPUs : 0.086168 kWh. Total GPU Power : 430.56500000000005 W\n",
      "[codecarbon INFO @ 00:46:31] Energy consumed for all CPUs : 0.008677 kWh. Total CPU Power : 42.5 W\n",
      "[codecarbon INFO @ 00:46:31] 0.104453 kWh of electricity used since the beginning.\n"
     ]
    },
    {
     "data": {
      "application/vnd.jupyter.widget-view+json": {
       "model_id": "4967853fd5ce446d909399e6df0c1163",
       "version_major": 2,
       "version_minor": 0
      },
      "text/plain": [
       "  0%|          | 0/26 [00:00<?, ?it/s]"
      ]
     },
     "metadata": {},
     "output_type": "display_data"
    },
    {
     "name": "stdout",
     "output_type": "stream",
     "text": [
      "{'eval_loss': 3.757296085357666, 'eval_accuracy': 0.43087414755114695, 'eval_f1': 0.4279125082844817, 'eval_runtime': 1.3477, 'eval_samples_per_second': 1196.88, 'eval_steps_per_second': 19.293, 'epoch': 41.0}\n",
      "{'loss': 0.1022, 'grad_norm': 0.8192456364631653, 'learning_rate': 3.3663366336633666e-06, 'epoch': 41.58}\n"
     ]
    },
    {
     "name": "stderr",
     "output_type": "stream",
     "text": [
      "[codecarbon INFO @ 00:46:46] Energy consumed for RAM : 0.009805 kWh. RAM Power : 47.089237689971924 W\n",
      "[codecarbon INFO @ 00:46:46] Energy consumed for all GPUs : 0.087954 kWh. Total GPU Power : 428.933 W\n",
      "[codecarbon INFO @ 00:46:46] Energy consumed for all CPUs : 0.008854 kWh. Total CPU Power : 42.5 W\n",
      "[codecarbon INFO @ 00:46:46] 0.106613 kWh of electricity used since the beginning.\n"
     ]
    },
    {
     "data": {
      "application/vnd.jupyter.widget-view+json": {
       "model_id": "e8bd7bac0ce14c3ab93f2fccdcd5fac5",
       "version_major": 2,
       "version_minor": 0
      },
      "text/plain": [
       "  0%|          | 0/26 [00:00<?, ?it/s]"
      ]
     },
     "metadata": {},
     "output_type": "display_data"
    },
    {
     "name": "stdout",
     "output_type": "stream",
     "text": [
      "{'eval_loss': 3.7879908084869385, 'eval_accuracy': 0.43769373837569747, 'eval_f1': 0.4364225741414765, 'eval_runtime': 1.3411, 'eval_samples_per_second': 1202.747, 'eval_steps_per_second': 19.387, 'epoch': 42.0}\n"
     ]
    },
    {
     "name": "stderr",
     "output_type": "stream",
     "text": [
      "[codecarbon INFO @ 00:47:01] Energy consumed for RAM : 0.010001 kWh. RAM Power : 47.089237689971924 W\n",
      "[codecarbon INFO @ 00:47:01] Energy consumed for all GPUs : 0.089741 kWh. Total GPU Power : 429.0040000000001 W\n",
      "[codecarbon INFO @ 00:47:01] Energy consumed for all CPUs : 0.009031 kWh. Total CPU Power : 42.5 W\n",
      "[codecarbon INFO @ 00:47:01] 0.108773 kWh of electricity used since the beginning.\n"
     ]
    },
    {
     "name": "stdout",
     "output_type": "stream",
     "text": [
      "{'loss': 0.111, 'grad_norm': 0.34823986887931824, 'learning_rate': 2.9702970297029703e-06, 'epoch': 42.57}\n"
     ]
    },
    {
     "data": {
      "application/vnd.jupyter.widget-view+json": {
       "model_id": "9f62522123d44e829cf132a7c04c9a5d",
       "version_major": 2,
       "version_minor": 0
      },
      "text/plain": [
       "  0%|          | 0/26 [00:00<?, ?it/s]"
      ]
     },
     "metadata": {},
     "output_type": "display_data"
    },
    {
     "name": "stdout",
     "output_type": "stream",
     "text": [
      "{'eval_loss': 3.7898855209350586, 'eval_accuracy': 0.4358338499690019, 'eval_f1': 0.4343388035940831, 'eval_runtime': 1.3443, 'eval_samples_per_second': 1199.876, 'eval_steps_per_second': 19.341, 'epoch': 43.0}\n"
     ]
    },
    {
     "name": "stderr",
     "output_type": "stream",
     "text": [
      "[codecarbon INFO @ 00:47:16] Energy consumed for RAM : 0.010197 kWh. RAM Power : 47.089237689971924 W\n",
      "[codecarbon INFO @ 00:47:16] Energy consumed for all GPUs : 0.091530 kWh. Total GPU Power : 429.69100000000003 W\n",
      "[codecarbon INFO @ 00:47:16] Energy consumed for all CPUs : 0.009208 kWh. Total CPU Power : 42.5 W\n",
      "[codecarbon INFO @ 00:47:16] 0.110935 kWh of electricity used since the beginning.\n"
     ]
    },
    {
     "name": "stdout",
     "output_type": "stream",
     "text": [
      "{'loss': 0.1063, 'grad_norm': 8.236790657043457, 'learning_rate': 2.5742574257425744e-06, 'epoch': 43.56}\n"
     ]
    },
    {
     "data": {
      "application/vnd.jupyter.widget-view+json": {
       "model_id": "26ea6b15019c4a6089a154443809b297",
       "version_major": 2,
       "version_minor": 0
      },
      "text/plain": [
       "  0%|          | 0/26 [00:00<?, ?it/s]"
      ]
     },
     "metadata": {},
     "output_type": "display_data"
    },
    {
     "name": "stdout",
     "output_type": "stream",
     "text": [
      "{'eval_loss': 3.824824094772339, 'eval_accuracy': 0.44017358958462494, 'eval_f1': 0.43786074708132683, 'eval_runtime': 1.3455, 'eval_samples_per_second': 1198.8, 'eval_steps_per_second': 19.323, 'epoch': 44.0}\n"
     ]
    },
    {
     "name": "stderr",
     "output_type": "stream",
     "text": [
      "[codecarbon INFO @ 00:47:31] Energy consumed for RAM : 0.010393 kWh. RAM Power : 47.089237689971924 W\n",
      "[codecarbon INFO @ 00:47:31] Energy consumed for all GPUs : 0.093323 kWh. Total GPU Power : 430.433 W\n",
      "[codecarbon INFO @ 00:47:31] Energy consumed for all CPUs : 0.009385 kWh. Total CPU Power : 42.5 W\n",
      "[codecarbon INFO @ 00:47:31] 0.113101 kWh of electricity used since the beginning.\n"
     ]
    },
    {
     "name": "stdout",
     "output_type": "stream",
     "text": [
      "{'loss': 0.1029, 'grad_norm': 0.899494469165802, 'learning_rate': 2.1782178217821785e-06, 'epoch': 44.55}\n"
     ]
    },
    {
     "data": {
      "application/vnd.jupyter.widget-view+json": {
       "model_id": "4799561eba1044b9a10940116c61727c",
       "version_major": 2,
       "version_minor": 0
      },
      "text/plain": [
       "  0%|          | 0/26 [00:00<?, ?it/s]"
      ]
     },
     "metadata": {},
     "output_type": "display_data"
    },
    {
     "name": "stdout",
     "output_type": "stream",
     "text": [
      "{'eval_loss': 3.8723409175872803, 'eval_accuracy': 0.4333539987600744, 'eval_f1': 0.4311093228922369, 'eval_runtime': 1.3435, 'eval_samples_per_second': 1200.593, 'eval_steps_per_second': 19.352, 'epoch': 45.0}\n"
     ]
    },
    {
     "name": "stderr",
     "output_type": "stream",
     "text": [
      "[codecarbon INFO @ 00:47:46] Energy consumed for RAM : 0.010589 kWh. RAM Power : 47.089237689971924 W\n",
      "[codecarbon INFO @ 00:47:46] Energy consumed for all GPUs : 0.095145 kWh. Total GPU Power : 437.58200000000005 W\n",
      "[codecarbon INFO @ 00:47:46] Energy consumed for all CPUs : 0.009562 kWh. Total CPU Power : 42.5 W\n",
      "[codecarbon INFO @ 00:47:46] 0.115297 kWh of electricity used since the beginning.\n"
     ]
    },
    {
     "name": "stdout",
     "output_type": "stream",
     "text": [
      "{'loss': 0.1084, 'grad_norm': 1.5322530269622803, 'learning_rate': 1.7821782178217822e-06, 'epoch': 45.54}\n"
     ]
    },
    {
     "name": "stderr",
     "output_type": "stream",
     "text": [
      "[codecarbon INFO @ 00:48:01] Energy consumed for RAM : 0.010785 kWh. RAM Power : 47.089237689971924 W\n",
      "[codecarbon INFO @ 00:48:01] Energy consumed for all GPUs : 0.096935 kWh. Total GPU Power : 429.661 W\n",
      "[codecarbon INFO @ 00:48:01] Energy consumed for all CPUs : 0.009739 kWh. Total CPU Power : 42.5 W\n",
      "[codecarbon INFO @ 00:48:01] 0.117459 kWh of electricity used since the beginning.\n"
     ]
    },
    {
     "data": {
      "application/vnd.jupyter.widget-view+json": {
       "model_id": "7e5d871f37724b94abb5fa86ca4fb16a",
       "version_major": 2,
       "version_minor": 0
      },
      "text/plain": [
       "  0%|          | 0/26 [00:00<?, ?it/s]"
      ]
     },
     "metadata": {},
     "output_type": "display_data"
    },
    {
     "name": "stdout",
     "output_type": "stream",
     "text": [
      "{'eval_loss': 3.851806879043579, 'eval_accuracy': 0.43831370117792934, 'eval_f1': 0.4370449536767985, 'eval_runtime': 1.3417, 'eval_samples_per_second': 1202.221, 'eval_steps_per_second': 19.379, 'epoch': 46.0}\n",
      "{'loss': 0.1048, 'grad_norm': 0.5298560857772827, 'learning_rate': 1.3861386138613863e-06, 'epoch': 46.53}\n"
     ]
    },
    {
     "name": "stderr",
     "output_type": "stream",
     "text": [
      "[codecarbon INFO @ 00:48:16] Energy consumed for RAM : 0.010981 kWh. RAM Power : 47.089237689971924 W\n",
      "[codecarbon INFO @ 00:48:16] Energy consumed for all GPUs : 0.098722 kWh. Total GPU Power : 429.168 W\n",
      "[codecarbon INFO @ 00:48:16] Energy consumed for all CPUs : 0.009916 kWh. Total CPU Power : 42.5 W\n",
      "[codecarbon INFO @ 00:48:16] 0.119620 kWh of electricity used since the beginning.\n"
     ]
    },
    {
     "data": {
      "application/vnd.jupyter.widget-view+json": {
       "model_id": "65534f4cc9cc4628a8c0abd1c55da98e",
       "version_major": 2,
       "version_minor": 0
      },
      "text/plain": [
       "  0%|          | 0/26 [00:00<?, ?it/s]"
      ]
     },
     "metadata": {},
     "output_type": "display_data"
    },
    {
     "name": "stdout",
     "output_type": "stream",
     "text": [
      "{'eval_loss': 3.8661136627197266, 'eval_accuracy': 0.44203347799132053, 'eval_f1': 0.4403936756388786, 'eval_runtime': 1.338, 'eval_samples_per_second': 1205.536, 'eval_steps_per_second': 19.432, 'epoch': 47.0}\n",
      "{'loss': 0.1046, 'grad_norm': 0.2566736340522766, 'learning_rate': 9.900990099009902e-07, 'epoch': 47.52}\n"
     ]
    },
    {
     "name": "stderr",
     "output_type": "stream",
     "text": [
      "[codecarbon INFO @ 00:48:31] Energy consumed for RAM : 0.011178 kWh. RAM Power : 47.089237689971924 W\n",
      "[codecarbon INFO @ 00:48:31] Energy consumed for all GPUs : 0.100507 kWh. Total GPU Power : 428.589 W\n",
      "[codecarbon INFO @ 00:48:31] Energy consumed for all CPUs : 0.010093 kWh. Total CPU Power : 42.5 W\n",
      "[codecarbon INFO @ 00:48:31] 0.121778 kWh of electricity used since the beginning.\n"
     ]
    },
    {
     "data": {
      "application/vnd.jupyter.widget-view+json": {
       "model_id": "c6b25849edf64880b7418ab5bb572fea",
       "version_major": 2,
       "version_minor": 0
      },
      "text/plain": [
       "  0%|          | 0/26 [00:00<?, ?it/s]"
      ]
     },
     "metadata": {},
     "output_type": "display_data"
    },
    {
     "name": "stdout",
     "output_type": "stream",
     "text": [
      "{'eval_loss': 3.886650323867798, 'eval_accuracy': 0.4358338499690019, 'eval_f1': 0.4339615484217113, 'eval_runtime': 1.3435, 'eval_samples_per_second': 1200.551, 'eval_steps_per_second': 19.352, 'epoch': 48.0}\n",
      "{'loss': 0.1089, 'grad_norm': 1.7716639041900635, 'learning_rate': 5.940594059405941e-07, 'epoch': 48.51}\n"
     ]
    },
    {
     "name": "stderr",
     "output_type": "stream",
     "text": [
      "[codecarbon INFO @ 00:48:46] Energy consumed for RAM : 0.011374 kWh. RAM Power : 47.089237689971924 W\n",
      "[codecarbon INFO @ 00:48:46] Energy consumed for all GPUs : 0.102292 kWh. Total GPU Power : 428.454 W\n",
      "[codecarbon INFO @ 00:48:46] Energy consumed for all CPUs : 0.010270 kWh. Total CPU Power : 42.5 W\n",
      "[codecarbon INFO @ 00:48:46] 0.123936 kWh of electricity used since the beginning.\n"
     ]
    },
    {
     "data": {
      "application/vnd.jupyter.widget-view+json": {
       "model_id": "3458313811af4c028374d43c1c725156",
       "version_major": 2,
       "version_minor": 0
      },
      "text/plain": [
       "  0%|          | 0/26 [00:00<?, ?it/s]"
      ]
     },
     "metadata": {},
     "output_type": "display_data"
    },
    {
     "name": "stdout",
     "output_type": "stream",
     "text": [
      "{'eval_loss': 3.876537799835205, 'eval_accuracy': 0.4370737755734656, 'eval_f1': 0.4354425878914685, 'eval_runtime': 1.3436, 'eval_samples_per_second': 1200.471, 'eval_steps_per_second': 19.35, 'epoch': 49.0}\n"
     ]
    },
    {
     "name": "stderr",
     "output_type": "stream",
     "text": [
      "[codecarbon INFO @ 00:49:01] Energy consumed for RAM : 0.011570 kWh. RAM Power : 47.089237689971924 W\n",
      "[codecarbon INFO @ 00:49:01] Energy consumed for all GPUs : 0.104081 kWh. Total GPU Power : 429.59600000000006 W\n",
      "[codecarbon INFO @ 00:49:01] Energy consumed for all CPUs : 0.010448 kWh. Total CPU Power : 42.5 W\n",
      "[codecarbon INFO @ 00:49:01] 0.126098 kWh of electricity used since the beginning.\n"
     ]
    },
    {
     "name": "stdout",
     "output_type": "stream",
     "text": [
      "{'loss': 0.104, 'grad_norm': 0.30626097321510315, 'learning_rate': 1.9801980198019803e-07, 'epoch': 49.5}\n"
     ]
    },
    {
     "data": {
      "application/vnd.jupyter.widget-view+json": {
       "model_id": "8dee6b9ab22742a585c871d7a24dac16",
       "version_major": 2,
       "version_minor": 0
      },
      "text/plain": [
       "  0%|          | 0/26 [00:00<?, ?it/s]"
      ]
     },
     "metadata": {},
     "output_type": "display_data"
    },
    {
     "name": "stderr",
     "output_type": "stream",
     "text": [
      "[codecarbon INFO @ 00:49:12] Energy consumed for RAM : 0.011716 kWh. RAM Power : 47.089237689971924 W\n",
      "[codecarbon INFO @ 00:49:12] Energy consumed for all GPUs : 0.105465 kWh. Total GPU Power : 446.619 W\n",
      "[codecarbon INFO @ 00:49:12] Energy consumed for all CPUs : 0.010579 kWh. Total CPU Power : 42.5 W\n",
      "[codecarbon INFO @ 00:49:12] 0.127760 kWh of electricity used since the beginning.\n"
     ]
    },
    {
     "name": "stdout",
     "output_type": "stream",
     "text": [
      "{'eval_loss': 3.877136468887329, 'eval_accuracy': 0.4370737755734656, 'eval_f1': 0.43468557129075325, 'eval_runtime': 1.3412, 'eval_samples_per_second': 1202.677, 'eval_steps_per_second': 19.386, 'epoch': 50.0}\n",
      "{'train_runtime': 904.4104, 'train_samples_per_second': 356.475, 'train_steps_per_second': 5.584, 'train_loss': 0.29483315798315674, 'epoch': 50.0}\n"
     ]
    },
    {
     "data": {
      "text/plain": [
       "TrainOutput(global_step=5050, training_loss=0.29483315798315674, metrics={'train_runtime': 904.4104, 'train_samples_per_second': 356.475, 'train_steps_per_second': 5.584, 'train_loss': 0.29483315798315674, 'epoch': 50.0})"
      ]
     },
     "execution_count": 12,
     "metadata": {},
     "output_type": "execute_result"
    }
   ],
   "source": [
    "trainer.train()"
   ]
  },
  {
   "cell_type": "code",
   "execution_count": 13,
   "metadata": {},
   "outputs": [],
   "source": [
    "trainer.save_model(\"model/dune_rate_models\")"
   ]
  },
  {
   "cell_type": "code",
   "execution_count": 14,
   "metadata": {},
   "outputs": [
    {
     "name": "stdout",
     "output_type": "stream",
     "text": [
      "[{'label': 'LABEL_4', 'score': 0.9998780488967896}]\n"
     ]
    }
   ],
   "source": [
    "from transformers import pipeline\n",
    "\n",
    "classifier = pipeline('text-classification', model='model/dune_rate_models')\n",
    "\n",
    "result = classifier(\"After watching This second Time In IMAX safe to say that This is the peak sci fi sequel Ever \")\n",
    "print(result)"
   ]
  },
  {
   "cell_type": "code",
   "execution_count": null,
   "metadata": {},
   "outputs": [],
   "source": []
  }
 ],
 "metadata": {
  "kernelspec": {
   "display_name": "llms_env",
   "language": "python",
   "name": "python3"
  },
  "language_info": {
   "codemirror_mode": {
    "name": "ipython",
    "version": 3
   },
   "file_extension": ".py",
   "mimetype": "text/x-python",
   "name": "python",
   "nbconvert_exporter": "python",
   "pygments_lexer": "ipython3",
   "version": "3.10.10"
  }
 },
 "nbformat": 4,
 "nbformat_minor": 2
}
